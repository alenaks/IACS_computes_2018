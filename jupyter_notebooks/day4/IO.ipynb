{
 "cells": [
  {
   "cell_type": "markdown",
   "metadata": {
    "collapsed": true
   },
   "source": [
    "# Input / Output "
   ]
  },
  {
   "cell_type": "markdown",
   "metadata": {},
   "source": [
    " One thing we haven't touched on is how to have our programs interact with anything outside our programs. Programs can easily read and write to files and take input from the user. We'll focus on input/output here.  "
   ]
  },
  {
   "cell_type": "markdown",
   "metadata": {},
   "source": [
    "### Interact with User"
   ]
  },
  {
   "cell_type": "markdown",
   "metadata": {},
   "source": [
    "A very simple way to demonstrate how to interact with the user is to take input from them using the `input()` function. (Run the cell below)."
   ]
  },
  {
   "cell_type": "code",
   "execution_count": null,
   "metadata": {},
   "outputs": [],
   "source": [
    "input(\"What is your name?\")"
   ]
  },
  {
   "cell_type": "markdown",
   "metadata": {},
   "source": [
    "You'll notice a few things from this line. \n",
    "\n",
    "First: Python prints out what is inside the string that we passed to the `input()` function. If we had passed nothing, what would we get?"
   ]
  },
  {
   "cell_type": "code",
   "execution_count": null,
   "metadata": {},
   "outputs": [],
   "source": []
  },
  {
   "cell_type": "markdown",
   "metadata": {},
   "source": [
    "It's not very informative when a program puts up an empty box and then idles, waiting for an uninformed user to do something. Its good practice to always provide a prompting string to `input()`. \n",
    "\n",
    "The second thing you may notice is Python outputs our input. What type is our output?"
   ]
  },
  {
   "cell_type": "code",
   "execution_count": null,
   "metadata": {},
   "outputs": [],
   "source": [
    "#use the type function to determine the type of our input"
   ]
  },
  {
   "cell_type": "markdown",
   "metadata": {},
   "source": [
    "So here I entered a number (the number `5`) but Python interpreted it as a string. \n",
    "\n",
    "That's because everything entered into `input()` gets stored as a string. It is up to the programmer to cast the input into the correct data type.  \n",
    "\n",
    "### Casting the data type of input\n",
    "  \n",
    "We can save the input into a variable quite easily. This works exactly how you think it will."
   ]
  },
  {
   "cell_type": "code",
   "execution_count": null,
   "metadata": {},
   "outputs": [],
   "source": [
    "my_name = input(\"Enter your name: \")"
   ]
  },
  {
   "cell_type": "markdown",
   "metadata": {},
   "source": [
    "You'll notice no output was given here, as it was instead stored inside the variable `my_name`. Lets see what is stored in `my_name`."
   ]
  },
  {
   "cell_type": "code",
   "execution_count": null,
   "metadata": {},
   "outputs": [],
   "source": [
    "print(my_name)"
   ]
  },
  {
   "cell_type": "markdown",
   "metadata": {},
   "source": [
    "Let's try and get a number from the user now:"
   ]
  },
  {
   "cell_type": "code",
   "execution_count": null,
   "metadata": {},
   "outputs": [],
   "source": [
    "my_int = input(\"Tell me the answer to the universe: \")  #read input from the user\n",
    "\n",
    "print(type(my_int))                       #print the type of the input from the user\n",
    "print(\"The answer is \" , my_int)            #print the input from the user\n",
    "\n",
    "my_int = int(my_int)                     #change the input to an integer (rather than a string)\n",
    "\n",
    "print(type(my_int))                       #again print the type of my_int (should be an integer)\n",
    "print(\"The answer is \" , my_int)            #again print my_int"
   ]
  },
  {
   "cell_type": "markdown",
   "metadata": {},
   "source": [
    "So notice here that we took something that was a string and converted it to an integer. We could do it in one line by doing the following:"
   ]
  },
  {
   "cell_type": "code",
   "execution_count": null,
   "metadata": {},
   "outputs": [],
   "source": [
    "my_int = int(input(\"Tell me the answer to the universe: \"))\n",
    "print(type(my_int))\n",
    "print(\"The answer is \" , my_int)"
   ]
  },
  {
   "cell_type": "markdown",
   "metadata": {},
   "source": [
    "### A bot you can chat to!"
   ]
  },
  {
   "cell_type": "markdown",
   "metadata": {},
   "source": [
    "Remember Alena's chat bot example in the last lesson? Now we can make it interactive!"
   ]
  },
  {
   "cell_type": "code",
   "execution_count": null,
   "metadata": {},
   "outputs": [],
   "source": [
    "def chatbot(name, animal, state):\n",
    "    print(\"Hello, \"+name+\"!\\n\")\n",
    "    \n",
    "    print(\"Oh, I see you like \"+animal+\"s...\")\n",
    "    if animal in [\"cat\", \"dog\"]:\n",
    "        print(\"This choice is pretty usual.\\n\")\n",
    "    elif animal in [\"spider\", \"salamander\"]:\n",
    "        print(\"I didn't expect that!\\n\")\n",
    "    else:\n",
    "        print(\"How is it even possible?!\\n\")\n",
    "        \n",
    "    print(\"Wow, you're from \"+state+\".\")\n",
    "    if state in [\"Connecticut\", \"Massachusetts\", \"Rhode Island\", \"New Hampshire\", \"Maine\", \"Vermont\",\n",
    "                 \"New York\", \"Michigan\", \"Wisconsin\", \"Iowa\", \"Minnesota\", \"South Dakota\", \"North Dakota\",\n",
    "                 \"Montana\", \"Idaho\", \"Oregon\", \"Washington\"]:\n",
    "        print(\"Pretty cold there, huh?\")\n",
    "    else:\n",
    "        print(\"That's good.\")\n",
    "        \n",
    "    return name+\" from \"+state+\" likes \"+animal+\"s!\""
   ]
  },
  {
   "cell_type": "markdown",
   "metadata": {},
   "source": [
    "Write a cell that uses this chat bot by feeding user input into the chat bot function's arguments, as opposed to the predetermined answers we've been using."
   ]
  },
  {
   "cell_type": "code",
   "execution_count": null,
   "metadata": {},
   "outputs": [],
   "source": []
  },
  {
   "cell_type": "code",
   "execution_count": 5,
   "metadata": {},
   "outputs": [],
   "source": [
    "import time\n",
    "\n",
    "def chatbot():\n",
    "    \n",
    "    name = input(\"Hi, I'm RUDY! What's your name? \")\n",
    "    \n",
    "    time.sleep(1)\n",
    "    \n",
    "    print(\"Nice to meet you, \"+name+\"!\\n\")\n",
    "    \n",
    "    animal = input(\"I like turtles. What's your favorite animal? \")\n",
    "    \n",
    "    time.sleep(1)\n",
    "    \n",
    "    print(\"Oh, you like \"+animal+\"s...?\")\n",
    "    \n",
    "    time.sleep(1)\n",
    "    \n",
    "    if animal in [\"cat\", \"dog\"]:\n",
    "        print(\"Boooooring!\\n\")\n",
    "    elif animal in [\"spider\", \"salamander\"]:\n",
    "        print(\"WHOA! You're weird!\\n\")\n",
    "    else:\n",
    "        print(\"What the heck is that?!\\n\")\n",
    "    \n",
    "    time.sleep(1)\n",
    "    \n",
    "    state = input(\"Where are you from? :D \")\n",
    "    \n",
    "    time.sleep(1)\n",
    "    \n",
    "    print(\"Wow, you're from \"+state+\"??\")\n",
    "    \n",
    "    time.sleep(1)\n",
    "    \n",
    "    if state in [\"Connecticut\", \"Massachusetts\", \"Rhode Island\", \"New Hampshire\", \"Maine\", \"Vermont\",\n",
    "                 \"New York\", \"Michigan\", \"Wisconsin\", \"Iowa\", \"Minnesota\", \"South Dakota\", \"North Dakota\",\n",
    "                 \"Montana\", \"Idaho\", \"Oregon\", \"Washington\"]:\n",
    "        print(\"Pretty cold there, huh?\")\n",
    "    else:\n",
    "        print(\"That's good.\")\n",
    "        \n",
    "    return name+\" from \"+state+\" likes \"+animal+\"s!\""
   ]
  },
  {
   "cell_type": "code",
   "execution_count": 6,
   "metadata": {},
   "outputs": [
    {
     "name": "stdout",
     "output_type": "stream",
     "text": [
      "Hi, I'm RUDY! What's your name? ayla\n",
      "Nice to meet you, ayla!\n",
      "\n",
      "I like turtles. What's your favorite animal? dog\n",
      "Oh, you like dogs...?\n",
      "Boooooring!\n",
      "\n",
      "Where are you from? :D New York\n",
      "Wow, you're from New York??\n",
      "Pretty cold there, huh?\n"
     ]
    },
    {
     "data": {
      "text/plain": [
       "'ayla from New York likes dogs!'"
      ]
     },
     "execution_count": 6,
     "metadata": {},
     "output_type": "execute_result"
    }
   ],
   "source": [
    "chatbot()"
   ]
  },
  {
   "cell_type": "markdown",
   "metadata": {},
   "source": [
    "### A quick example of control flow"
   ]
  },
  {
   "cell_type": "code",
   "execution_count": null,
   "metadata": {},
   "outputs": [],
   "source": [
    "def are_we_there_yet():\n",
    "    running = True\n",
    "        \n",
    "    while running:\n",
    "        mom = input(\"Are we there yet? \")\n",
    "\n",
    "        if mom == \"yes\":\n",
    "            running = False"
   ]
  },
  {
   "cell_type": "code",
   "execution_count": null,
   "metadata": {},
   "outputs": [],
   "source": [
    "are_we_there_yet()"
   ]
  },
  {
   "cell_type": "markdown",
   "metadata": {},
   "source": [
    "## Read and Write to Files "
   ]
  },
  {
   "cell_type": "markdown",
   "metadata": {},
   "source": [
    "Python can also interact with files already saved on your hard drive or create a new file and write output to the new file. Both commands will require us to open and close a file. That is done as shown here:"
   ]
  },
  {
   "cell_type": "code",
   "execution_count": null,
   "metadata": {},
   "outputs": [],
   "source": [
    "output_file = open('secret.txt','w')"
   ]
  },
  {
   "cell_type": "markdown",
   "metadata": {},
   "source": [
    "What did we just do? We have opened the file hello.txt in `write` mode (that is what the `'w'` means). We could also have opened in `read only` mode (`'r'`) or `appending` mode (`'a'`).  \n",
    "  \n",
    "In `write` mode, the file we name (here its `secret.txt`) is created if it doesn't exist. \n",
    "\n",
    "If it does exist, it is deleted and started from a blank file. Everything written to this file will start at the beginning and follow from there.\n",
    "  \n",
    "In `append` mode (`'a'`), the file named is created if it doesn't exist OR opened if it does exist. Everything written to the file is added at the end (appended, if you will). Anything already written in the file will remain there. New material will simply be appended.\n",
    "  \n",
    "In `read only` mode (`'r'`), the file is simply opened if it exists OR an error is thrown if it doesn't exist.\n",
    "\n",
    "The file we just opened doesn't exist. So Python has now created the file for us. \n",
    "\n",
    "The variable `output_file` is of a new kind of data type. Let's see what Python says it is:"
   ]
  },
  {
   "cell_type": "code",
   "execution_count": null,
   "metadata": {},
   "outputs": [],
   "source": [
    "type(output_file)"
   ]
  },
  {
   "cell_type": "markdown",
   "metadata": {},
   "source": [
    "Think of `output_file` as the *\"public representative\"* of the actual file we're interested in, which is `secret.txt`. It's like if you are sitting on Skype and doing video chat, the person you are talking to isn't seeing YOU, but they are seeing a representation of you on the computer screen. \n",
    "\n",
    "Anything we want to do with `secret.txt`, we must do through `output_file`. Note that `output_file` is just a variable name. We could have named it anything we wanted.\n",
    "\n",
    "Now let's write something to our file with the write function."
   ]
  },
  {
   "cell_type": "code",
   "execution_count": null,
   "metadata": {},
   "outputs": [],
   "source": [
    "output_file.write(\"I know your secrets\")"
   ]
  },
  {
   "cell_type": "markdown",
   "metadata": {},
   "source": [
    "This, oddly, printed the number `24` to the screen. This is simply the length of the string that we gave to `write()`. However, `write()` did more than just tell us the length of the string. \n",
    "\n",
    "Let's close our file now that it contains something so we can open it up and look at its contents. We do this just like you'd imagine: using the `close()` function."
   ]
  },
  {
   "cell_type": "code",
   "execution_count": null,
   "metadata": {},
   "outputs": [],
   "source": [
    "output_file.close()"
   ]
  },
  {
   "cell_type": "markdown",
   "metadata": {},
   "source": [
    "Now, in order to read what's in our file, let's open it up in `read` mode."
   ]
  },
  {
   "cell_type": "code",
   "execution_count": null,
   "metadata": {},
   "outputs": [],
   "source": [
    "input_file = open('secret.txt','r') #the 'r' means read mode"
   ]
  },
  {
   "cell_type": "markdown",
   "metadata": {},
   "source": [
    "Ok, let's read a single line out of our file. We do this with the `readline()` command."
   ]
  },
  {
   "cell_type": "code",
   "execution_count": null,
   "metadata": {},
   "outputs": [],
   "source": [
    "#read the next line in our file (which is the first line, since we haven't read any)\n",
    "#and store it in a variable\n",
    "the_line = input_file.readline() \n",
    "\n",
    "print(the_line)"
   ]
  },
  {
   "cell_type": "markdown",
   "metadata": {},
   "source": [
    "Yay! The string we added is in our file. Can we read any more? We didn't add anything else, but let's try."
   ]
  },
  {
   "cell_type": "code",
   "execution_count": null,
   "metadata": {},
   "outputs": [],
   "source": [
    "the_second_line = input_file.readline() #read the next line of our file, which is the second line, since we already read the first\n",
    "print(the_second_line)"
   ]
  },
  {
   "cell_type": "markdown",
   "metadata": {},
   "source": [
    "No errors, but nothing seems to have happened. That's because `the_second_line` didn't contain anything (which we expected since we knew our file only had one line.)  \n",
    "  \n",
    "Let's close the file that is `read` only right now, open it in `append`, and then add another line."
   ]
  },
  {
   "cell_type": "code",
   "execution_count": null,
   "metadata": {},
   "outputs": [],
   "source": [
    "input_file.close()                         #close the file\n",
    "\n",
    "the_file = open('secret.txt', 'a')          #reopen the file in append mode so we can add another line\n",
    "\n",
    "#write two more lines to the file\n",
    "the_file.write(\"I know them all!\")\n",
    "the_file.write(\"Muahaha!\")\n",
    "\n",
    "#now close the file\n",
    "the_file.close()"
   ]
  },
  {
   "cell_type": "markdown",
   "metadata": {},
   "source": [
    "Now let's open this file and read it line by line. We can do this quite easily using this next loop structure."
   ]
  },
  {
   "cell_type": "code",
   "execution_count": null,
   "metadata": {},
   "outputs": [],
   "source": [
    "the_big_file = open('secret.txt','r') #open the file\n",
    "\n",
    "for line in the_big_file:  #this for loop will go line-by-line until the end of the file, storing each line in the variable \"line\"\n",
    "    print(line)\n",
    "    \n",
    "the_big_file.close() #always remember to close your file"
   ]
  },
  {
   "cell_type": "markdown",
   "metadata": {},
   "source": [
    "So you'll notice that all the lines we printed were put on one single line. Why? "
   ]
  },
  {
   "cell_type": "code",
   "execution_count": null,
   "metadata": {},
   "outputs": [],
   "source": [
    "the_file2 = open('secret.txt', 'a')\n",
    "\n",
    "the_file2.write(\"\\nI know them all!\")        #the \\n adds a new line or \"return\" to our file\n",
    "the_file2.write(\"\\nMuahaha!\")\n",
    "\n",
    "the_file2.close()"
   ]
  },
  {
   "cell_type": "markdown",
   "metadata": {},
   "source": [
    "Now let's print each line of our new file. This is the same code as before."
   ]
  },
  {
   "cell_type": "code",
   "execution_count": null,
   "metadata": {},
   "outputs": [],
   "source": [
    "the_big_file = open('secret.txt','r')\n",
    "\n",
    "for line in the_big_file:\n",
    "    print(line)\n",
    "    \n",
    "the_big_file.close()"
   ]
  },
  {
   "cell_type": "markdown",
   "metadata": {},
   "source": [
    "Woo hoo! That did what we thought it would do. So that's a way to read line by line. \n",
    "\n",
    "What if we wanted to read the entire file at once? \n",
    "\n",
    "We can use the `readlines()` function to do that"
   ]
  },
  {
   "cell_type": "code",
   "execution_count": null,
   "metadata": {},
   "outputs": [],
   "source": [
    "the_whole_file = open('secret.txt', 'r')\n",
    "\n",
    "everything = the_whole_file.readlines()\n",
    "\n",
    "print(everything)\n",
    "\n",
    "the_whole_file.close()"
   ]
  },
  {
   "cell_type": "markdown",
   "metadata": {},
   "source": [
    "The `readlines()` function stores all of the lines in a file as strings inside a list. So here we got the whole file, stored in a list of length `3` (the number of non-empty lines in the file). You'll notice we have the special characters `\"\\n\"` explicitly written out here. If you don't believe me, check it."
   ]
  },
  {
   "cell_type": "code",
   "execution_count": null,
   "metadata": {},
   "outputs": [],
   "source": [
    "print(len(everything))\n",
    "print(everything[0])\n",
    "print(everything[1])\n",
    "print(everything[2])"
   ]
  },
  {
   "cell_type": "markdown",
   "metadata": {
    "collapsed": true
   },
   "source": [
    "## Practice Problems"
   ]
  },
  {
   "cell_type": "markdown",
   "metadata": {},
   "source": [
    "Write a function that takes two strings as arguments. \n",
    "\n",
    "Append the first string to a file, and use the second string as the name of the file. \n",
    "\n",
    "Check that your function works by either opening the file manually, or by opening the file in a new cell and printing the content."
   ]
  },
  {
   "cell_type": "code",
   "execution_count": null,
   "metadata": {},
   "outputs": [],
   "source": [
    "def write_to_file(my_string,file_name):\n",
    "    \n",
    "    my_file = open(file_name,'a')\n",
    "    \n",
    "    my_file.write(my_string)\n",
    "    \n",
    "    my_file.close()"
   ]
  },
  {
   "cell_type": "code",
   "execution_count": null,
   "metadata": {},
   "outputs": [],
   "source": [
    "# use this cell to open your file and print the content\n",
    "\n",
    "write_to_file(\"Hello World!\\n\\nGoodbye.\", \"hello_world.txt\")\n",
    "\n",
    "reader = open('hello_world.txt', 'r')\n",
    "lines = reader.readlines()\n",
    "\n",
    "print(lines)\n",
    "\n",
    "# Always clean up!!\n",
    "reader.close()"
   ]
  },
  {
   "cell_type": "markdown",
   "metadata": {},
   "source": [
    "Write a function with no arguments that prompts the user to enter a random integer between zero and one-hundred. \n",
    "\n",
    "Name your function `get_number` and have it return the number entered. \n",
    "\n",
    "Make sure to cast the number entered as an integer!!"
   ]
  },
  {
   "cell_type": "code",
   "execution_count": null,
   "metadata": {},
   "outputs": [],
   "source": [
    "def get_number():\n",
    "    # Prompt user for a number\n",
    "    the_number = input(\"Please enter an integer between 1 and 100: \")\n",
    "    \n",
    "    # Return the number\n",
    "    return int(the_number)"
   ]
  },
  {
   "cell_type": "code",
   "execution_count": null,
   "metadata": {},
   "outputs": [],
   "source": [
    "print(get_number())"
   ]
  },
  {
   "cell_type": "markdown",
   "metadata": {},
   "source": [
    "Write a function that takes a number as its only argument. \n",
    "\n",
    "Have the function prompt the user for another number and store it in a variable. Then, determine if the user's number is greater than, equal to, or less than the input number. \n",
    "\n",
    "Tell the user which case their guess falls into by printing to the screen. \n",
    "\n",
    "Have your function return True if its equal and False otherwise."
   ]
  },
  {
   "cell_type": "code",
   "execution_count": null,
   "metadata": {},
   "outputs": [],
   "source": [
    "def guess(n):\n",
    "    \n",
    "    # Prompt user for a number\n",
    "    # making sure to cast it as an int\n",
    "    the_guess = int(input(\"Please enter an integer between 1 and 100: \"))\n",
    "    \n",
    "    # Check if too low\n",
    "    if the_guess < n:\n",
    "        \n",
    "        # Too low!\n",
    "        print(\"Your guess was too low.\")\n",
    "        \n",
    "    # Check if too high\n",
    "    elif the_guess > n:\n",
    "        \n",
    "        # Too high!\n",
    "        print(\"Your guess was too high.\")\n",
    "        \n",
    "    # Else handles the case the_number == n\n",
    "    else:\n",
    "        \n",
    "        # They guessed right\n",
    "        print(\"You guessed right!\\nThe number was\", n)\n",
    "        return True\n",
    "    \n",
    "    # If we get here then they didn't guess the number\n",
    "    # so return False\n",
    "    return False"
   ]
  },
  {
   "cell_type": "code",
   "execution_count": null,
   "metadata": {},
   "outputs": [],
   "source": [
    "# Testing guess\n",
    "guess(30)"
   ]
  },
  {
   "cell_type": "markdown",
   "metadata": {},
   "source": [
    "## Advanced Problem "
   ]
  },
  {
   "cell_type": "markdown",
   "metadata": {},
   "source": [
    "*Guessing Game*: Write a guessing game function that has generates a random integer between 1 and 100 (we will provide the code for this), and then has the user continue to guess until the user guesses the correct number. Each time the user is wrong, the function should tell the user if they were too high or too low."
   ]
  },
  {
   "cell_type": "code",
   "execution_count": null,
   "metadata": {},
   "outputs": [],
   "source": [
    "# We need this library to generate a random number\n",
    "import random\n",
    "\n",
    "def guessing_game( ):\n",
    "    \n",
    "    # This creates a random integer between 1 and 100\n",
    "    # and stores it in the variable named \"the_number\"\n",
    "    the_number = random.randint(1,100)\n",
    "    \n",
    "    # Boolean variable to determine if we continue\n",
    "    game = True\n",
    "    \n",
    "    # Going to be smart and use the previous code we wrote!\n",
    "    while game:\n",
    "        \n",
    "        # Check if a guess is right\n",
    "        if guess(the_number):\n",
    "            \n",
    "            # They got it right\n",
    "            print(\"Congratulations! You've won the guessing game.\")\n",
    "            \n",
    "            # We need to exit the game\n",
    "            game = False\n",
    "    \n",
    "        # If we get here, they guessed wrong\n",
    "        else:\n",
    "            \n",
    "            # Tell them to try again\n",
    "            print(\"Try again!\")\n",
    "            print(\"\") # This empty line helps with read-ability"
   ]
  },
  {
   "cell_type": "code",
   "execution_count": null,
   "metadata": {},
   "outputs": [],
   "source": [
    "guessing_game()"
   ]
  }
 ],
 "metadata": {
  "kernelspec": {
   "display_name": "Python 3",
   "language": "python",
   "name": "python3"
  },
  "language_info": {
   "codemirror_mode": {
    "name": "ipython",
    "version": 3
   },
   "file_extension": ".py",
   "mimetype": "text/x-python",
   "name": "python",
   "nbconvert_exporter": "python",
   "pygments_lexer": "ipython3",
   "version": "3.6.5"
  }
 },
 "nbformat": 4,
 "nbformat_minor": 1
}
