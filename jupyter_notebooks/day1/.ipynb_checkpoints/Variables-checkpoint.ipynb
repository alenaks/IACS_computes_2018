{
 "cells": [
  {
   "cell_type": "markdown",
   "metadata": {},
   "source": [
    "# Variables"
   ]
  },
  {
   "cell_type": "markdown",
   "metadata": {},
   "source": [
    "In Python, we can assign names to values. For example, below we're assiging name `number` to any number. And after it, we can print it calling it by name instead of the actual value!"
   ]
  },
  {
   "cell_type": "code",
   "execution_count": null,
   "metadata": {},
   "outputs": [],
   "source": [
    "number = 5\n",
    "print(number)"
   ]
  },
  {
   "cell_type": "markdown",
   "metadata": {},
   "source": [
    "A slightly bigger example is calculating the area of a rectangle:"
   ]
  },
  {
   "cell_type": "code",
   "execution_count": null,
   "metadata": {},
   "outputs": [],
   "source": [
    "length = 7\n",
    "width = 12\n",
    "length*width"
   ]
  },
  {
   "cell_type": "markdown",
   "metadata": {},
   "source": [
    "The use of variables gives us a lot of advantages when coding!\n",
    "\n",
    "The first is readability. As you continue to code, you'll soon be reading programs written by other people (or your past self!). It's way more useful to know what each number is if the person gave that number a name. The example written above is a fair example. Anyone reading that code will know that 7 is the length of something and 12 is the width. To be even more informative, we could even write it like this:"
   ]
  },
  {
   "cell_type": "code",
   "execution_count": null,
   "metadata": {},
   "outputs": [],
   "source": [
    "length = 7\n",
    "width = 12\n",
    "area = length*width\n",
    "print(area)"
   ]
  },
  {
   "cell_type": "markdown",
   "metadata": {},
   "source": [
    "Now anyone reading our code knows that we wanted to calculate an area.\n",
    "\n",
    "Another advantage of variables is that it allows us to use the same quantity in more than one place. Let's think back to algebra, when we were trying to solve quadratic equations, such as:\n",
    "\n",
    "$$2x^2+x-1=0$$\n",
    "\n",
    "This is a generalization of the quadratic equation\n",
    "\n",
    "$$ax^2+bx+c=0$$\n",
    "\n",
    "Which has solutions found using the well-known formula\n",
    "\n",
    "$$x = \\frac{-b \\pm \\sqrt{b^2 - 4ac}}{2a}$$\n",
    "\n",
    "Let's write some code that can find x for us."
   ]
  },
  {
   "cell_type": "code",
   "execution_count": null,
   "metadata": {},
   "outputs": [],
   "source": [
    "from math import sqrt #This allows us to do square roots using sqrt( )\n",
    "a=2\n",
    "b=1\n",
    "c=-1\n",
    "\n",
    "x1 = (-b+sqrt(b**2-4*a*c))/(2*a)\n",
    "x2 = (-b-sqrt(b**2-4*a*c))/(2*a)\n",
    "\n",
    "print(x1, x2)"
   ]
  },
  {
   "cell_type": "markdown",
   "metadata": {},
   "source": [
    "In the above example, if we wanted to solve a different equation, perhaps the following:\n",
    "\n",
    "$$x^2+6x-27=0$$\n",
    "\n",
    "then we can easily just change the values of a, b, and c, and then hit shift+enter. Python does the rest for us! Without variables, we would have to retype those long formulas all over again, or at least go through and change all of the values by hand!"
   ]
  },
  {
   "cell_type": "markdown",
   "metadata": {},
   "source": [
    "Now let's take a closer look at some of the things we just did. We've been using the \"=\" to assign variables. This is called the assignment operator, and the way it's used is pretty important. In math, the purpose of the equal sign is a statement that two quantities are the same, which usually gives us some information to solve a problem. However, in programming, this is not the case. The assignment operator (=) is used to tell the computer to *do* something. When we use the assignment operator, we're telling the computer to take whatever is on the right-hand side of the equals sign, and put it in whatever is on the left. Therefore, the left- and right-hand sides of the equal sign are not the same in programming! In the quadratic example above, the computer created a variable called a, and then stored the value of 2 in a. It then did similarly for b, c, x1, and x2. Let's do some more examples:"
   ]
  },
  {
   "cell_type": "code",
   "execution_count": null,
   "metadata": {},
   "outputs": [],
   "source": [
    "price = 1.50\n",
    "print(price)"
   ]
  },
  {
   "cell_type": "code",
   "execution_count": null,
   "metadata": {},
   "outputs": [],
   "source": [
    "price = 1.75\n",
    "print(price)"
   ]
  },
  {
   "cell_type": "markdown",
   "metadata": {},
   "source": [
    "So the equals sign is spefically giving an instruction to the computer: \"Create a variable with this name, and store this value on the right-hand-side in that variable.\" What if we want to *check* the equality of two things? The way we do this in Python is with *two* equals signs together, like in the examples below:"
   ]
  },
  {
   "cell_type": "code",
   "execution_count": null,
   "metadata": {},
   "outputs": [],
   "source": [
    "price == 1.75"
   ]
  },
  {
   "cell_type": "code",
   "execution_count": null,
   "metadata": {},
   "outputs": [],
   "source": [
    "price == 1.50"
   ]
  },
  {
   "cell_type": "markdown",
   "metadata": {},
   "source": [
    "Look at and play with these examples using the price variable until you understand the difference between using a single equals sign and using two equals signs."
   ]
  },
  {
   "cell_type": "markdown",
   "metadata": {},
   "source": [
    "Note that because of the way it is programmed, the equals sign treats its left and right sides differently. To illustrate this with an example:"
   ]
  },
  {
   "cell_type": "code",
   "execution_count": null,
   "metadata": {},
   "outputs": [],
   "source": [
    "1.50 = price"
   ]
  },
  {
   "cell_type": "markdown",
   "metadata": {},
   "source": [
    "What happened above? Because Python treats the left- and right-hand sides differently, it thinks we're trying to change the value of 1.50 to whatever value is currently stored in price (which is 1.75). Because this is nonsense (and it would be very bad if we could actually change the value of 1.5 to be something that isn't 1.5), the computer gives an error.\n",
    "\n",
    "This behavior of the equal sign in programming allows us to do some things that otherwise might look very strange. Like this:"
   ]
  },
  {
   "cell_type": "code",
   "execution_count": null,
   "metadata": {},
   "outputs": [],
   "source": [
    "a = 6\n",
    "print(a)"
   ]
  },
  {
   "cell_type": "code",
   "execution_count": null,
   "metadata": {},
   "outputs": [],
   "source": [
    "a = a + 1\n",
    "print(a)"
   ]
  },
  {
   "cell_type": "code",
   "execution_count": null,
   "metadata": {},
   "outputs": [],
   "source": [
    "a = a*2\n",
    "print(a)"
   ]
  },
  {
   "cell_type": "markdown",
   "metadata": {},
   "source": [
    "In math, if someone writes\n",
    "\n",
    "$$a = a + 1$$\n",
    "\n",
    "you might be tempted to try to solve for a and then find out that the above statement is impossible! But in programming, we're not interested in solving for a, and that's not what the code above does. When Python sees this, it looks at the right hand side and evaluates. At the time, a was 6, so it did 6 + 1 and got 7. It then saw that we wanted to assign that to a, so it reassigned a to be 7 instead of 6! When we printed a, it told us a was now 7. Using this technique, we are able to manipulate a variable without knowing what that variable is. In particular, taking some number and adding 1 to it is a very commonly used operation in programming."
   ]
  },
  {
   "cell_type": "markdown",
   "metadata": {},
   "source": [
    "Variables can be set to be any of the data types we've already talked about. Numbers, strings, and booleans can all be assigned to a variable and then used later. Here are some examples:"
   ]
  },
  {
   "cell_type": "code",
   "execution_count": null,
   "metadata": {},
   "outputs": [],
   "source": [
    "name = \"Alena\"\n",
    "print(name)\n",
    "\n",
    "birthyear = 1993\n",
    "print(birthyear)\n",
    "\n",
    "NY_resident = False\n",
    "print(NY_resident)"
   ]
  },
  {
   "cell_type": "markdown",
   "metadata": {},
   "source": [
    "A note about naming your variables: Python requires that the first character in a variable name be either a letter (capital or lowercase) or an underscore (\\_) After that, you can use almost any combination of letters, numbers, and underscores."
   ]
  },
  {
   "cell_type": "code",
   "execution_count": null,
   "metadata": {},
   "outputs": [],
   "source": [
    "_a = 3\n",
    "MimI = 9"
   ]
  },
  {
   "cell_type": "markdown",
   "metadata": {},
   "source": [
    "However, you cannot start your variable name with a number:"
   ]
  },
  {
   "cell_type": "code",
   "execution_count": null,
   "metadata": {},
   "outputs": [],
   "source": [
    "9th = 900"
   ]
  },
  {
   "cell_type": "markdown",
   "metadata": {},
   "source": [
    "A very dangerous thing, however, is to assign something to a name that Python already uses, like that. In this case, this function will be overwritten and not available anymore!"
   ]
  },
  {
   "cell_type": "code",
   "execution_count": null,
   "metadata": {},
   "outputs": [],
   "source": [
    "print = 67"
   ]
  },
  {
   "cell_type": "markdown",
   "metadata": {},
   "source": [
    "It worked... Now let us try to use the print function."
   ]
  },
  {
   "cell_type": "code",
   "execution_count": null,
   "metadata": {},
   "outputs": [],
   "source": [
    "print(\"Hi!\")"
   ]
  },
  {
   "cell_type": "markdown",
   "metadata": {
    "collapsed": true
   },
   "source": [
    "## Practice Problems"
   ]
  },
  {
   "cell_type": "markdown",
   "metadata": {},
   "source": [
    "Write a cell that creates an integer variable with value between 10 and 99. Then add 10 to the variable. Then print the variable."
   ]
  },
  {
   "cell_type": "code",
   "execution_count": null,
   "metadata": {},
   "outputs": [],
   "source": []
  },
  {
   "cell_type": "markdown",
   "metadata": {},
   "source": [
    "Write a cell that creates an integer variable with value between 10 and 99. Then have that cell print the quotient and remainder of that integer resulting from division by 7."
   ]
  },
  {
   "cell_type": "code",
   "execution_count": null,
   "metadata": {},
   "outputs": [],
   "source": []
  },
  {
   "cell_type": "markdown",
   "metadata": {},
   "source": [
    "Write a cell that creates a variable and assign to it a string containing your name (e.g. \"Alena\"). Print this string twice. (Guess how to print a string a couple of times!)"
   ]
  },
  {
   "cell_type": "code",
   "execution_count": null,
   "metadata": {},
   "outputs": [],
   "source": []
  },
  {
   "cell_type": "markdown",
   "metadata": {},
   "source": [
    "Write a cell that creates two variables, and assign each variable to a string containing an animal (e.g. \"cat\" or \"dog\"). Add these two strings together and print the result."
   ]
  },
  {
   "cell_type": "code",
   "execution_count": null,
   "metadata": {},
   "outputs": [],
   "source": []
  },
  {
   "cell_type": "markdown",
   "metadata": {},
   "source": [
    "## Advanced Problems "
   ]
  },
  {
   "cell_type": "markdown",
   "metadata": {},
   "source": [
    "Write a notebook cell that has two variables A and B (booleans). Write a print statement that returns the \"exclusive or\" for these two variables. Use as many additional variables as necessary.\n",
    "\n",
    "An \"exclusive or\" returns true if only one of A and B is true, and false if A and B are either both true and both false. The following table summarizes this.\n",
    "\n",
    "$$\n",
    "\\begin{array}{c | c | c}\n",
    "   A & B & Answer \\\\\n",
    "   \\hline\n",
    "   T & T & F \\\\\n",
    "   T & F & T \\\\\n",
    "   F & T & T \\\\\n",
    "   F & F & F\n",
    "\\end{array}\n",
    "$$"
   ]
  },
  {
   "cell_type": "code",
   "execution_count": null,
   "metadata": {},
   "outputs": [],
   "source": []
  },
  {
   "cell_type": "markdown",
   "metadata": {},
   "source": [
    "Write a cell that saves a number to a variable num_minutes. Then convert that number to be read in days:hours:minutes and print this to the screen. Use as many additional variables as necessary. The following table gives you some inputs with the correct outputs so you can test your code's accuracy.\n",
    "\n",
    "$$\n",
    "\\begin{array}{c | c}\n",
    "   Input & Answer \\\\\n",
    "   \\hline\n",
    "   43 & 0 : 0 : 43 \\\\\n",
    "   432 & 0 : 7 : 12 \\\\\n",
    "   4321 & 3 : 0 : 1 \\\\\n",
    "   43219 & 30 : 0 : 19\n",
    "\\end{array}\n",
    "$$\n",
    "\n",
    "Hint: you can use a couple of arguments of `print`, for example:"
   ]
  },
  {
   "cell_type": "code",
   "execution_count": null,
   "metadata": {},
   "outputs": [],
   "source": [
    "print(4, \":\", 5, \":\", 4)"
   ]
  },
  {
   "cell_type": "code",
   "execution_count": null,
   "metadata": {},
   "outputs": [],
   "source": [
    "# your code here"
   ]
  }
 ],
 "metadata": {
  "kernelspec": {
   "display_name": "Python 3",
   "language": "python",
   "name": "python3"
  },
  "language_info": {
   "codemirror_mode": {
    "name": "ipython",
    "version": 3
   },
   "file_extension": ".py",
   "mimetype": "text/x-python",
   "name": "python",
   "nbconvert_exporter": "python",
   "pygments_lexer": "ipython3",
   "version": "3.6.5"
  }
 },
 "nbformat": 4,
 "nbformat_minor": 1
}
