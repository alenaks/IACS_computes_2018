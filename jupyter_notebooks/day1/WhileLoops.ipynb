{
 "cells": [
  {
   "cell_type": "markdown",
   "metadata": {
    "collapsed": true
   },
   "source": [
    "# While Loops"
   ]
  },
  {
   "cell_type": "markdown",
   "metadata": {},
   "source": [
    "In programming and computing (maybe even life in general), there are times where we need to do the same thing multiple times sequentially. For example, lets say we needed to know the first 10 perfect square numbers. How would we do that? There's always the brute force method, calculating them all individually:"
   ]
  },
  {
   "cell_type": "code",
   "execution_count": null,
   "metadata": {},
   "outputs": [],
   "source": [
    "1**2"
   ]
  },
  {
   "cell_type": "code",
   "execution_count": null,
   "metadata": {},
   "outputs": [],
   "source": [
    "2**2"
   ]
  },
  {
   "cell_type": "code",
   "execution_count": null,
   "metadata": {},
   "outputs": [],
   "source": [
    "3**2"
   ]
  },
  {
   "cell_type": "code",
   "execution_count": null,
   "metadata": {},
   "outputs": [],
   "source": [
    "4**2"
   ]
  },
  {
   "cell_type": "code",
   "execution_count": null,
   "metadata": {},
   "outputs": [],
   "source": [
    "5**2"
   ]
  },
  {
   "cell_type": "code",
   "execution_count": null,
   "metadata": {},
   "outputs": [],
   "source": [
    "6**2"
   ]
  },
  {
   "cell_type": "code",
   "execution_count": null,
   "metadata": {},
   "outputs": [],
   "source": [
    "7**2"
   ]
  },
  {
   "cell_type": "code",
   "execution_count": null,
   "metadata": {},
   "outputs": [],
   "source": [
    "8**2"
   ]
  },
  {
   "cell_type": "code",
   "execution_count": null,
   "metadata": {},
   "outputs": [],
   "source": [
    "9**2"
   ]
  },
  {
   "cell_type": "code",
   "execution_count": null,
   "metadata": {},
   "outputs": [],
   "source": [
    "10**2"
   ]
  },
  {
   "cell_type": "markdown",
   "metadata": {},
   "source": [
    "Very cumbersome, right? Surely there's a better way to do this! Maybe we use a variable?"
   ]
  },
  {
   "cell_type": "code",
   "execution_count": null,
   "metadata": {},
   "outputs": [],
   "source": [
    "a = 1        #Start our variable at 1\n",
    "print(a**2)  #print the square of our variable\n",
    "a += 1    #add 1 to our variable (so it's now 2) and store the change\n",
    "print(a**2)  #print the square of our variable again, and so on...\n",
    "a += 1\n",
    "print(a**2)\n",
    "a += 1\n",
    "print(a**2)\n",
    "a += 1\n",
    "print(a**2)\n",
    "a += 1\n",
    "print(a**2)\n",
    "a += 1\n",
    "print(a**2)\n",
    "a += 1\n",
    "print(a**2)\n",
    "a += 1\n",
    "print(a**2)\n",
    "a += 1\n",
    "print(a**2)   #by this time, a should be 10, so we can print this last number and quit"
   ]
  },
  {
   "cell_type": "markdown",
   "metadata": {},
   "source": [
    "That was actually worse. But looking at what we just did, we did the same thing 10 seperate times. We started with variable a, assigned to it the value 1, then simply printed a squared and then added 1 to it and repeated. Once we wrote the first 3 lines of code, we could have used our computer's copy-and-paste feature to write this quickly. But there's an even better way to do this. This repitition can be handled by Python and most other programming languages easily. To do this we must introduce the concept of a loop."
   ]
  },
  {
   "cell_type": "markdown",
   "metadata": {},
   "source": [
    "What is a loop? A loop is simply code that will be executed multiple times, assuming the correct conditions have been met. There are two main categories of loops: \"For\" loops and \"While\" loops. Anything you can do with a For loop, you can do with a While loop. And anything you can do with a While loop, you can do with a For loop. They are simply two different ways to go about implementing an idea. We are going to focus on While loops to start."
   ]
  },
  {
   "cell_type": "markdown",
   "metadata": {},
   "source": [
    "As an example, lets reprint the first 10 perfect squares using a While loop:"
   ]
  },
  {
   "cell_type": "code",
   "execution_count": null,
   "metadata": {},
   "outputs": [],
   "source": [
    "a = 1           #start a at 1\n",
    "while a < 11:   #Keep repeating while a is less than 11\n",
    "    print(a**2)  #print a squared\n",
    "    a = a + 1   #add 1 to a and store the result. This is called \"incrementing\" a"
   ]
  },
  {
   "cell_type": "markdown",
   "metadata": {},
   "source": [
    "Loops in python have a very specific structure. They have a header that includes the condition for continuation followed by a colon, and then an indented body that includes what should be done each time through the loop. Each line in the body must be indented under the header (this indentation is how Python knows what is inside the loop and what isn't). "
   ]
  },
  {
   "cell_type": "markdown",
   "metadata": {},
   "source": [
    "Another way to understand a while loop is to compare it to an if statement (from our last lesson). An if statement checks some condition (for example, is a < 11 ?), and if it is true, then it executes a block of indented code underneath it. A while loop starts out the same. It checks some condition, and if it is true, it executes the block of code underneath. However, once that block is done, a while loop goes back and checks the condition again. If the condition is still true, it repeats the block of code underneath, and continues this cycle until the expression evaluates to false."
   ]
  },
  {
   "cell_type": "markdown",
   "metadata": {},
   "source": [
    "Notice that it took us only 4 lines of code to do what we did in 20 lines of code above. "
   ]
  },
  {
   "cell_type": "markdown",
   "metadata": {},
   "source": [
    "## A Common Problem"
   ]
  },
  {
   "cell_type": "markdown",
   "metadata": {},
   "source": [
    "While loops afford us a lot of utility, they also give us new ways to make mistakes. Due to the nature of loops, however, some of these mistakes can be especially disastrous. As an example, in the example below, we've \"accidentally\" forgotten to increment the variable i at the end of the loop.\n",
    "\n",
    "*__IMPORTANT: DO NOT__* actually run the next cell\n",
    "of code. We have run it for you, and the output should already be displayed below. Read the cell, and the given output. Then keep reading the text below."
   ]
  },
  {
   "cell_type": "code",
   "execution_count": null,
   "metadata": {
    "scrolled": true
   },
   "outputs": [],
   "source": [
    "i = 1\n",
    "while i < 10:\n",
    "    print(i)"
   ]
  },
  {
   "cell_type": "markdown",
   "metadata": {},
   "source": [
    "What we created here is called an \"infinite loop.\" This ia a loop that will keep running forever (it will never terminate). Everyone at some point in their coding education, will create and run an infinite loop. Personally, it happens to me every week.\n",
    "\n",
    "An infinite loop will cause your computer to drastically slow down and maybe even become unresponsive. If you get caught in an infinite loop, we can hit the button with the square icon located at the top of this window, directly beneath the \"Cell\" menu to force the computer to stop. If this doesn't work, try going to the \"Kernel\" menu at the top of the notebook and selecting \"Interrupt\".\n",
    "\n",
    "What happened here? We have something that keeps repeating because the end condition is never met. We created a variable named i and assigned it to 1. Then we told the computer to keep printing i as long as i is less than 10. However, over the course of the loop, we never changed the value of i. Therefore i was *always* 1, and therefore i was *always* less than 10. Without interrupting, this program would run forever (or until your computer crashed)."
   ]
  },
  {
   "cell_type": "markdown",
   "metadata": {},
   "source": [
    "What can we do to make it work? We can remember to increment i, as in the cell below."
   ]
  },
  {
   "cell_type": "code",
   "execution_count": null,
   "metadata": {},
   "outputs": [],
   "source": [
    "i = 1\n",
    "while i < 10:\n",
    "    print(i)\n",
    "    i = i + 1"
   ]
  },
  {
   "cell_type": "markdown",
   "metadata": {},
   "source": [
    "Do note that the last line printed was a 9, and not a 10. That is because the conditional in the header of the while loop must be true for the body to be executed. This code requires that \"i < 10\" for the body to be executed, so we will never print the number 10 since 10 is not less than 10. Thus when \"i\" equals 10, the conditional on the loop is false and the print statement inside the body of the loop will not be executed."
   ]
  },
  {
   "cell_type": "markdown",
   "metadata": {},
   "source": [
    "## Accumulation Into a Variable"
   ]
  },
  {
   "cell_type": "markdown",
   "metadata": {},
   "source": [
    "So we've seen how to use a while loop to repeat the same piece of code. While there are endless applications of while loops, there is one particular structure of while loops that is so common that I've decided to cover it explicitly. There's no \"official\" name out there for this topic, but in my head I simply call it \"accumulation.\" This is a pattern where an \"empty\" variable is created, and then modified throughout the course of a loop."
   ]
  },
  {
   "cell_type": "markdown",
   "metadata": {},
   "source": [
    "Let's start by looking at an example. Let's say I wanted to add together all the numbers from 1 to 10. The loop will look similar in structure to the one we wrote just above. However, instead of printing the variable i at each iteration, we want to keep a \"running total\" of our sum and add i to it at each iteration. Recall how we add a number to a variable that already exists (this was discussed in the variables notebook). The code for calculating this sum looks like this:"
   ]
  },
  {
   "cell_type": "code",
   "execution_count": null,
   "metadata": {},
   "outputs": [],
   "source": [
    "total = 0      #This variable will contain our running total\n",
    "i = 1\n",
    "while i <= 10:\n",
    "    total = total + i     #This line adds i to total in an \"accumulative\" way\n",
    "    i = i + 1             #This moves i to the next number\n",
    "print(total)              #print total outside the loop"
   ]
  },
  {
   "cell_type": "markdown",
   "metadata": {},
   "source": [
    "The first line of the cell above is often the one forgotten by beginners. This is necessary because inside the while loop we accumulate to the variable total. Without the first line, total doesn't exist, and the right side of the assignment would give an error. We set total equal to 0 at the start so that first iteration does 0 + 1, and from that point on contains the correct number. Creating a variable to be used later like this is called *initialization*."
   ]
  },
  {
   "cell_type": "markdown",
   "metadata": {},
   "source": [
    "One more illustration of what's going on here. Let's copy and paste the above cell, but move the final print statement inside the loop. This is done by indenting that line so that Python treats it as part of the body of the while loop. Now the cell will print the total after every iteration of the loop."
   ]
  },
  {
   "cell_type": "code",
   "execution_count": null,
   "metadata": {},
   "outputs": [],
   "source": [
    "total = 0      #This variable will contain our running total\n",
    "i = 1\n",
    "while i <= 10:\n",
    "    total = total + i     #This line adds i to total in an \"accumulative\" way\n",
    "    i = i + 1             #This moves i to the next number\n",
    "    print(total)          #print total INSIDE the loop"
   ]
  },
  {
   "cell_type": "markdown",
   "metadata": {},
   "source": [
    "This technique of accumulation can be done to calculate more than just sums. We can also multiply many numbers together (in this case we would need to initialize a variable to 1 instead of 0, otherwise our answer would always be 0). Later, when we learn about lists, we'll be able to accumulate data in a list. In this case we would initialize an empty list and append to it later."
   ]
  },
  {
   "cell_type": "markdown",
   "metadata": {},
   "source": [
    "## Worked Examples"
   ]
  },
  {
   "cell_type": "markdown",
   "metadata": {},
   "source": [
    "Write a loop that prints the numbers 3 through 17"
   ]
  },
  {
   "cell_type": "code",
   "execution_count": null,
   "metadata": {},
   "outputs": [],
   "source": [
    "a = 3          #start a at 3 (this works because we print a before we increment. See below.)\n",
    "while a < 18:  #We could also have written a <= 17 here if we wanted. The result would be the same.\n",
    "    print(a)    #I want to print a each time.\n",
    "    a = a + 1  #After printing, increment a so that the loop will eventually terminate (infinte loops are bad)"
   ]
  },
  {
   "cell_type": "markdown",
   "metadata": {},
   "source": [
    "Write a loop to print the even numbers between 20 and 50"
   ]
  },
  {
   "cell_type": "code",
   "execution_count": null,
   "metadata": {},
   "outputs": [],
   "source": [
    "#SOLUTION 1:\n",
    "\n",
    "a = 20         #we want 20 to be the first number we print\n",
    "while a < 51:  #we want to stop at 50, so put \"less than 51\" here\n",
    "    print(a)   #just like previous examples\n",
    "    a = a + 2  #Here, I can increment by 2 instead of 1 so that a stays even"
   ]
  },
  {
   "cell_type": "code",
   "execution_count": null,
   "metadata": {},
   "outputs": [],
   "source": [
    "#SOLUTION 2:\n",
    "#An alternative solution that shows a slightly different way of thinking about the problem\n",
    "\n",
    "a = 20\n",
    "while a < 51:           #so far the same as above\n",
    "    if a % 2 == 0:      #Use a condition to check if a is even\n",
    "        print(a)        #If a is even, then print it\n",
    "    a = a + 1           #increment a by 1 whether we print or not"
   ]
  },
  {
   "cell_type": "markdown",
   "metadata": {},
   "source": [
    "Write a loop to sum all perfect squares less than 1000."
   ]
  },
  {
   "cell_type": "code",
   "execution_count": null,
   "metadata": {},
   "outputs": [],
   "source": [
    "#First we create a variable to store our sum.\n",
    "my_sum=0\n",
    "\n",
    "a = 1                       #This will be the first number we square and add to my_sum\n",
    "while a**2 < 1000:          #We want to stop once a**2 is greater than 1000\n",
    "    my_sum = my_sum + a**2  #Add a**2 to my_sum, then store the answer back in my_sum\n",
    "    a = a + 1               #Move on to the next value to be squared (increment a)\n",
    "\n",
    "print(my_sum)                  #at the very end (outside the loop) print the result (my_sum)"
   ]
  },
  {
   "cell_type": "markdown",
   "metadata": {},
   "source": [
    "## Practice Problems "
   ]
  },
  {
   "cell_type": "markdown",
   "metadata": {},
   "source": [
    "Write a loop to print the first 10 natural numbers in descending order. (Print 10, then 9, then 8...down to 1)"
   ]
  },
  {
   "cell_type": "code",
   "execution_count": null,
   "metadata": {},
   "outputs": [],
   "source": [
    "n = 10\n",
    "while n > 0:\n",
    "    print(n)\n",
    "    n = n - 1"
   ]
  },
  {
   "cell_type": "markdown",
   "metadata": {},
   "source": [
    "Write a loop to print the odd numbers between 17 and 67."
   ]
  },
  {
   "cell_type": "code",
   "execution_count": null,
   "metadata": {},
   "outputs": [],
   "source": [
    "n = 17\n",
    "while n <= 67:\n",
    "    if n % 2 == 1:\n",
    "        print(n)\n",
    "    n += 1"
   ]
  },
  {
   "cell_type": "markdown",
   "metadata": {},
   "source": [
    "Write a loop to print the first 11 multiples of the number 3 (start with 0). So your loop should print 0, 3, 6, ..."
   ]
  },
  {
   "cell_type": "code",
   "execution_count": null,
   "metadata": {},
   "outputs": [],
   "source": [
    "n = 0\n",
    "while n <= 11:\n",
    "    print(n*3)\n",
    "    n += 1"
   ]
  },
  {
   "cell_type": "markdown",
   "metadata": {},
   "source": [
    "Write a loop to calculate the product of the first 5 numbers. (Hint: The answer is 120. This is also known as the factorial function. This code should be very similar to the loop that sums the first 10 numbers.)"
   ]
  },
  {
   "cell_type": "code",
   "execution_count": null,
   "metadata": {},
   "outputs": [],
   "source": [
    "result = 1\n",
    "n = 1\n",
    "while n <= 5:\n",
    "    result = result * n\n",
    "    n += 1\n",
    "print(result)"
   ]
  },
  {
   "cell_type": "markdown",
   "metadata": {},
   "source": [
    "## Advanced Practice Problems"
   ]
  },
  {
   "cell_type": "markdown",
   "metadata": {},
   "source": [
    "** Divisors **  \n",
    "Write some code to print out each pair of divisors of an integer variable n that you create."
   ]
  },
  {
   "cell_type": "code",
   "execution_count": null,
   "metadata": {},
   "outputs": [],
   "source": [
    "import math\n",
    "\n",
    "n = 100\n",
    "div = 1\n",
    "\n",
    "while div <= math.sqrt(n):\n",
    "    if n % div == 0:\n",
    "        print(n // div, \"*\", div, \"=\", n)\n",
    "    div += 1"
   ]
  },
  {
   "cell_type": "markdown",
   "metadata": {},
   "source": [
    "**Growing Numbers**  \n",
    "Write a cell that when executed prints the numbers from 1 to n (a variable that you create), but prints each number that number of times (i.e. the number 1 gets printed once, the number 2 gets printed twice, the number 3 get printed 3 times, and so on)."
   ]
  },
  {
   "cell_type": "code",
   "execution_count": null,
   "metadata": {},
   "outputs": [],
   "source": [
    "n = 5\n",
    "i = 1\n",
    "\n",
    "while i <= n:\n",
    "    j = 1\n",
    "    while j <= i:\n",
    "        print(i)\n",
    "        j = j + 1\n",
    "    i = i + 1"
   ]
  },
  {
   "cell_type": "markdown",
   "metadata": {},
   "source": [
    "**Series**  \n",
    "\n",
    "One cool thing that loops will let you do is quickly calculate very long sums, especially if there's some pattern that you can follow to find each term in the sum. For example, here's a simple sum:\n",
    "\n",
    "$$ 1 + 2 + 3 + \\dots + n$$\n",
    "\n",
    "This sum simply adds up all of the natural numbers from 1 to n. A worked example evaluates this sum for n=10. Generalize this code so that it works for any positive integer n."
   ]
  },
  {
   "cell_type": "code",
   "execution_count": null,
   "metadata": {},
   "outputs": [],
   "source": [
    "number_of_terms = 10\n",
    "my_sum = 0\n",
    "\n",
    "i = 1\n",
    "\n",
    "while i <= number_of_terms:\n",
    "    my_sum = my_sum + i\n",
    "    \n",
    "    i = i + 1\n",
    "\n",
    "print(my_sum)"
   ]
  },
  {
   "cell_type": "markdown",
   "metadata": {},
   "source": [
    "Once you have that sum working, modify your code to try these sums:\n",
    "\n",
    "$$1 + \\frac{1}{2} + \\frac{1}{4} + \\frac{1}{8} + \\dots + \\frac{1}{2^n}$$"
   ]
  },
  {
   "cell_type": "code",
   "execution_count": null,
   "metadata": {},
   "outputs": [],
   "source": [
    "number_of_terms = 25\n",
    "my_sum = 0\n",
    "\n",
    "i = 0\n",
    "\n",
    "while i <= number_of_terms:\n",
    "    my_sum = my_sum + 1.0/(2**i)\n",
    "    i = i + 1\n",
    "\n",
    "print(my_sum)"
   ]
  },
  {
   "cell_type": "markdown",
   "metadata": {},
   "source": [
    "$$1 - \\frac{1}{2} + \\frac{1}{3} - \\frac{1}{4} + \\frac{1}{5} - \\dots + \\frac{(-1)^{n+1}}{n} $$"
   ]
  },
  {
   "cell_type": "code",
   "execution_count": null,
   "metadata": {},
   "outputs": [],
   "source": [
    "number_of_terms = 2500000\n",
    "\n",
    "my_sum = 1\n",
    "i = 2\n",
    "\n",
    "while i <= number_of_terms:\n",
    "    my_sum = my_sum + (-1.0)**(i+1)/i\n",
    "    \n",
    "    i = i + 1\n",
    "\n",
    "print(my_sum)"
   ]
  },
  {
   "cell_type": "code",
   "execution_count": null,
   "metadata": {},
   "outputs": [],
   "source": []
  }
 ],
 "metadata": {
  "kernelspec": {
   "display_name": "Python 3",
   "language": "python",
   "name": "python3"
  },
  "language_info": {
   "codemirror_mode": {
    "name": "ipython",
    "version": 3
   },
   "file_extension": ".py",
   "mimetype": "text/x-python",
   "name": "python",
   "nbconvert_exporter": "python",
   "pygments_lexer": "ipython3",
   "version": "3.6.5"
  }
 },
 "nbformat": 4,
 "nbformat_minor": 1
}
