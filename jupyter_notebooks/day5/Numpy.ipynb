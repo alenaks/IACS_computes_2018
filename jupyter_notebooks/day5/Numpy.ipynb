{
 "cells": [
  {
   "cell_type": "markdown",
   "metadata": {},
   "source": [
    "# Numpy (Numerical Python) and Matplotlib "
   ]
  },
  {
   "cell_type": "markdown",
   "metadata": {},
   "source": [
    "From http://www.numpy.org/:\n",
    "\n",
    "NumPy is the fundamental package for scientific computing with Python. It contains among other things:\n",
    "\n",
    "-a powerful N-dimensional array object  \n",
    "-sophisticated (broadcasting) functions  \n",
    "-tools for integrating C/C++ and Fortran code  \n",
    "-useful linear algebra, Fourier transform, and random number capabilities\n",
    "\n",
    "Besides its obvious scientific uses, NumPy can also be used as an efficient multi-dimensional container of generic data. Arbitrary data-types can be defined. This allows NumPy to seamlessly and speedily integrate with a wide variety of databases.\n",
    "\n",
    "Numpy is the standard go to for numerical issues in python. From personal experience, it lets you create matrices, do matrix operations, pretty printing, and so much more. \n",
    "\n",
    "Numpy is great, but it is only a way to do computations. Visualization of the data created using Numpy is also a very common thing to desire. The standard library for doing this (at least in the scientific world) is to use the pyplot part of matplotlib.\n",
    "\n",
    "From http://matplotlib.org/index.html:\n",
    "\n",
    "matplotlib is a python 2D plotting library which produces publication quality figures in a variety of hardcopy formats and interactive environments across platforms. matplotlib can be used in python scripts, the python and ipython shell (ala MATLAB®* or Mathematica®†), web application servers, and six graphical user interface toolkits.\n",
    "\n",
    "Lets get started by importing numpy and matplotlib.pyplot and then looking at the help."
   ]
  },
  {
   "cell_type": "markdown",
   "metadata": {},
   "source": [
    "*note*: Normally we distribute these notebooks with the output displayed. Since this notebook contains lots of plots, in the interest of saving disk space, we have not done so in this notebook. By now you should be familiar with using shift+enter to run cells in the notebook. If  you execute each cell in this notebook top-to-bottom, there shouldn't be any issues and the proper output will be displayed in each case."
   ]
  },
  {
   "cell_type": "code",
   "execution_count": null,
   "metadata": {},
   "outputs": [],
   "source": [
    "#Allows plots to display in the notebook\n",
    "%matplotlib inline\n",
    "\n",
    "#and import necessary libraries\n",
    "import numpy as np\n",
    "import matplotlib.pyplot as plt"
   ]
  },
  {
   "cell_type": "code",
   "execution_count": null,
   "metadata": {},
   "outputs": [],
   "source": [
    "help(np)"
   ]
  },
  {
   "cell_type": "code",
   "execution_count": null,
   "metadata": {},
   "outputs": [],
   "source": [
    "help(plt)"
   ]
  },
  {
   "cell_type": "markdown",
   "metadata": {},
   "source": [
    "Basically: there's a LOT here. So lets just look at a small subsection, starting with matplotlib.pyplot.  \n",
    "  \n",
    "Lets make a plot of f(x) = sin(x). In plotting, we must provide both the x and y values. A quick way to provide x values (the independent variable, remember) is to use numpy's linspace command. Lets do that now."
   ]
  },
  {
   "cell_type": "code",
   "execution_count": null,
   "metadata": {},
   "outputs": [],
   "source": [
    "#Make a list of 100 numbers between -2*pi and 2*pi\n",
    "x_values = np.linspace(-2.0*np.pi, 2.0*np.pi, 100)\n",
    "\n",
    "print(x_values)"
   ]
  },
  {
   "cell_type": "markdown",
   "metadata": {},
   "source": [
    "So you can see a few things from this. First, numpy has a value for pi that we can access with np.pi. Another thing to see is that numpy's linspace command takes a point to start at, a point to end at, and the number of evenly spaced steps between the two and then creates a list meeting those requirements.\n",
    "\n",
    "Now lets make a list of function values, evaluating the function f(x)=sin(x) at the values in our list named x_values."
   ]
  },
  {
   "cell_type": "code",
   "execution_count": null,
   "metadata": {
    "scrolled": true
   },
   "outputs": [],
   "source": [
    "fx_values = np.sin(x_values)\n",
    "print(fx_values)"
   ]
  },
  {
   "cell_type": "markdown",
   "metadata": {},
   "source": [
    "Once again, a few things to notice. Numpy has the trigonometric function sin(x) built in (it has tan() and cos() as well, but we simply don't need them here). Second by passing in a list of x_values to this built in sin() function, numpy is smart enough to figure out that we want to evaluate the sin() function at each of those x_values and save the results in a new list. Now lets plot."
   ]
  },
  {
   "cell_type": "code",
   "execution_count": null,
   "metadata": {},
   "outputs": [],
   "source": [
    "plt.plot(x_values,fx_values)\n",
    "plt.show()"
   ]
  },
  {
   "cell_type": "markdown",
   "metadata": {},
   "source": [
    "So that worked, but let's make our plot a little more informative"
   ]
  },
  {
   "cell_type": "code",
   "execution_count": null,
   "metadata": {
    "scrolled": true
   },
   "outputs": [],
   "source": [
    "plt.title(\"Plot of $f(x) = sin(x)$\")     #put a title on the plot\n",
    "plt.xlabel(\"$x$\")                        #label the x axis\n",
    "plt.ylabel(\"$sin(x)$\")                   #label the y axis\n",
    "plt.plot(x_values,fx_values)\n",
    "plt.show()"
   ]
  },
  {
   "cell_type": "markdown",
   "metadata": {},
   "source": [
    "That looks pretty good. What about adding in the axes?"
   ]
  },
  {
   "cell_type": "code",
   "execution_count": null,
   "metadata": {},
   "outputs": [],
   "source": [
    "plt.title(\"Plot of f(x) = sin(x)\")\n",
    "plt.xlabel(\"x\")\n",
    "plt.ylabel(\"sin(x)\")\n",
    "plt.plot(x_values,fx_values)\n",
    "plt.axhline(y=0, color='k')\n",
    "plt.axvline(x=0, color='k')\n",
    "plt.show()"
   ]
  },
  {
   "cell_type": "markdown",
   "metadata": {},
   "source": [
    "What about plotting more than one function at a time? Easy!"
   ]
  },
  {
   "cell_type": "code",
   "execution_count": null,
   "metadata": {
    "scrolled": false
   },
   "outputs": [],
   "source": [
    "plt.title(\"Plot of f(x) = sin(x) and g(x) = cos(x)\")\n",
    "plt.xlabel(\"x\")\n",
    "plt.ylabel(\"sin(x)\")\n",
    "plt.plot(x_values,fx_values)\n",
    "plt.plot(x_values,np.cos(x_values))\n",
    "plt.axhline(y=0, color='k')\n",
    "plt.axvline(x=0, color='k')\n",
    "plt.show()"
   ]
  },
  {
   "cell_type": "markdown",
   "metadata": {},
   "source": [
    "We can also turn the lines from solid to dashed quite easily."
   ]
  },
  {
   "cell_type": "code",
   "execution_count": null,
   "metadata": {
    "scrolled": true
   },
   "outputs": [],
   "source": [
    "plt.title(\"Plot of f(x) = sin(x) and g(x) = cos(x)\")\n",
    "plt.xlabel(\"x\")\n",
    "plt.ylabel(\"sin(x)\")\n",
    "plt.plot(x_values,fx_values)\n",
    "plt.plot(x_values,np.cos(x_values), '--') # The '--' changes the line style to dashed\n",
    "plt.axhline(y=0, color='k') # The color 'k' is black, if you wondered.\n",
    "plt.axvline(x=0, color='k')\n",
    "plt.show()"
   ]
  },
  {
   "cell_type": "markdown",
   "metadata": {},
   "source": [
    "What if we wanted to zoom in on only a certian portion? Easy."
   ]
  },
  {
   "cell_type": "code",
   "execution_count": null,
   "metadata": {},
   "outputs": [],
   "source": [
    "plt.title(\"Plot of f(x) = sin(x)\")\n",
    "plt.xlabel(\"x\")\n",
    "plt.ylabel(\"sin(x)\")\n",
    "plt.plot(x_values,fx_values)\n",
    "plt.plot(x_values,np.cos(x_values), '--r') \n",
    "plt.axhline(y=0, color='k') \n",
    "plt.axvline(x=0, color='k')\n",
    "plt.xlim([-3,-2])            #change the limits on the x axis\n",
    "plt.ylim([-1.0,-0.5])        #change the limits on the y axis\n",
    "plt.show()"
   ]
  },
  {
   "cell_type": "markdown",
   "metadata": {},
   "source": [
    "Just for fun, lets try and create a crazy function and just see what it looks like."
   ]
  },
  {
   "cell_type": "code",
   "execution_count": null,
   "metadata": {},
   "outputs": [],
   "source": [
    "plt.title(\"Plot of my crazy function\")\n",
    "plt.xlabel(\"x\")\n",
    "plt.ylabel(\"crazy(x)\")\n",
    "plt.plot(x_values,0.3*np.cos(20.0*np.pi*x_values)+np.sin(x_values))\n",
    "plt.axhline(y=0, color='k')\n",
    "plt.axvline(x=0, color='k')\n",
    "plt.show()"
   ]
  },
  {
   "cell_type": "markdown",
   "metadata": {},
   "source": [
    "What if I'm really proud of my work and want to save it forever so that I never lose it? Maybe print it out and put it on the fridge. We can do that too."
   ]
  },
  {
   "cell_type": "code",
   "execution_count": null,
   "metadata": {
    "scrolled": true
   },
   "outputs": [],
   "source": [
    "plt.title(\"Plot of my crazy function\")\n",
    "plt.xlabel(\"x\")\n",
    "plt.ylabel(\"crazy(x)\")\n",
    "plt.plot(x_values,0.3*np.cos(20.0*np.pi*x_values)+np.sin(x_values))\n",
    "plt.axhline(y=0, color='k')\n",
    "plt.axvline(x=0, color='k')\n",
    "plt.savefig('crazy.png')    #This line saves the figure to the hard disk\n",
    "plt.show()"
   ]
  },
  {
   "cell_type": "markdown",
   "metadata": {},
   "source": [
    "So that demonstrates the basics of matplotlib. Next to cover in this notebook is numpy. Numpy is a numerical mathematical library. This probably won't mean much to you guys (if your education is any way similar to mine.) But this is some of what numpy can do.\n",
    "\n",
    "Numpy can be used to easily create matrices. We do that like this:"
   ]
  },
  {
   "cell_type": "code",
   "execution_count": null,
   "metadata": {},
   "outputs": [],
   "source": [
    "A = np.array([[1,2,1],[4,5,6],[7,8,9]])\n",
    "print(A)"
   ]
  },
  {
   "cell_type": "markdown",
   "metadata": {},
   "source": [
    "We can also create the identity matrix or a zero matrix rather easily."
   ]
  },
  {
   "cell_type": "code",
   "execution_count": null,
   "metadata": {},
   "outputs": [],
   "source": [
    "eye1 = np.eye(3)\n",
    "zero1 = np.zeros((3,3))\n",
    "print(eye1)\n",
    "print(zero1)"
   ]
  },
  {
   "cell_type": "markdown",
   "metadata": {},
   "source": [
    "We can iterate through (using double loops) and reassign the values of a matrix."
   ]
  },
  {
   "cell_type": "code",
   "execution_count": null,
   "metadata": {
    "scrolled": true
   },
   "outputs": [],
   "source": [
    "for i in range(len(zero1)):\n",
    "    for j in range(len(zero1[0])):\n",
    "        zero1[i][j] = (i+1)*(j+1)  #This can be whatever you want\n",
    "print(zero1)"
   ]
  },
  {
   "cell_type": "markdown",
   "metadata": {},
   "source": [
    "The basic operations like + and - work just as you'd expect them to."
   ]
  },
  {
   "cell_type": "code",
   "execution_count": null,
   "metadata": {
    "scrolled": true
   },
   "outputs": [],
   "source": [
    "print(A + eye1)\n",
    "print(A - zero1)"
   ]
  },
  {
   "cell_type": "markdown",
   "metadata": {},
   "source": [
    "Matrix matrix multiplication however, is *not* done with the asterisk (*)."
   ]
  },
  {
   "cell_type": "code",
   "execution_count": null,
   "metadata": {},
   "outputs": [],
   "source": [
    "A * eye1"
   ]
  },
  {
   "cell_type": "markdown",
   "metadata": {},
   "source": [
    "What did this do? It just did element-wise multiplication. Each value inside A was multiplied by the corresponding value inside eye1. This is NOT the standard for matrix-matrix multiplication, though this operation is useful in its own right.\n",
    "\n",
    "To do true matrix-matrix multiplication, we need to use the dot() function."
   ]
  },
  {
   "cell_type": "code",
   "execution_count": null,
   "metadata": {},
   "outputs": [],
   "source": [
    "np.dot(A,eye1)"
   ]
  },
  {
   "cell_type": "markdown",
   "metadata": {},
   "source": [
    "We can make a vector in much the same way. A vector is just an ordered set of values (a list, in essence), or you can think of it as a matrix with only one column."
   ]
  },
  {
   "cell_type": "code",
   "execution_count": null,
   "metadata": {},
   "outputs": [],
   "source": [
    "b = [[1],[3],[5]]"
   ]
  },
  {
   "cell_type": "markdown",
   "metadata": {},
   "source": [
    "We can then use some of the linear algebra functions to solve this system of equations (in matrix form):\n",
    "\n",
    "$$ A * x = b $$"
   ]
  },
  {
   "cell_type": "code",
   "execution_count": null,
   "metadata": {},
   "outputs": [],
   "source": [
    "np.linalg.solve(A,b)"
   ]
  },
  {
   "cell_type": "markdown",
   "metadata": {},
   "source": [
    "By luck, our linear system has a unique solution."
   ]
  },
  {
   "cell_type": "markdown",
   "metadata": {},
   "source": [
    "Here's something thats really cool (I think) that uses matplotlib and numpy. This creates an image of infinite depth (i.e. a fractal) of the Mendelbrot set. This code was pulled directly from numpy's tutorial page."
   ]
  },
  {
   "cell_type": "code",
   "execution_count": null,
   "metadata": {},
   "outputs": [],
   "source": [
    "import numpy as np\n",
    "import matplotlib.pyplot as plt\n",
    "def mandelbrot( h,w, maxit=20 ):\n",
    "    \"\"\"Returns an image of the Mandelbrot fractal of size (h,w).\"\"\"\n",
    "    y,x = np.ogrid[ -1.4:1.4:h*1j, -2:0.8:w*1j ]\n",
    "    c = x+y*1j\n",
    "    z = c\n",
    "    divtime = maxit + np.zeros(z.shape, dtype=int)\n",
    "\n",
    "    for i in range(maxit):\n",
    "        z = z**2 + c\n",
    "        diverge = z*np.conj(z) > 2**2            # who is diverging\n",
    "        div_now = diverge & (divtime==maxit)  # who is diverging now\n",
    "        divtime[div_now] = i                  # note when\n",
    "        z[diverge] = 2                        # avoid diverging too much\n",
    "    \n",
    "    return divtime\n",
    "\n",
    "plt.imshow(mandelbrot(400,400))\n",
    "plt.show()"
   ]
  },
  {
   "cell_type": "code",
   "execution_count": null,
   "metadata": {},
   "outputs": [],
   "source": []
  }
 ],
 "metadata": {
  "kernelspec": {
   "display_name": "Python 3",
   "language": "python",
   "name": "python3"
  },
  "language_info": {
   "codemirror_mode": {
    "name": "ipython",
    "version": 3
   },
   "file_extension": ".py",
   "mimetype": "text/x-python",
   "name": "python",
   "nbconvert_exporter": "python",
   "pygments_lexer": "ipython3",
   "version": "3.6.5"
  }
 },
 "nbformat": 4,
 "nbformat_minor": 1
}
