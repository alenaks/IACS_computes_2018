{
 "cells": [
  {
   "cell_type": "markdown",
   "metadata": {
    "collapsed": true
   },
   "source": [
    "# Errors"
   ]
  },
  {
   "cell_type": "markdown",
   "metadata": {},
   "source": [
    "I'm sure by now you've encountered an error or two when trying to run your programs. Up until now, an error would generally cause Python to cease execution of the program and print some kind of complaint to the screen, which is sometimes what we want the program to do, and sometimes not. These error messages can themselves be used to find out what is wrong with your program. When you encounter an error, don't panic. The best thing to do is to read the text of the error message and see if you can find any clues as to what went wrong in your code. After that, if you can't find it, try searching the internet. Nowadays, just about every error you encounter, somebody else has encountered before, and a solution may be found online."
   ]
  },
  {
   "cell_type": "markdown",
   "metadata": {},
   "source": [
    "However, sometimes the code we write will have it's own unique way of failing, and we may not want the program to stop working simply because of something mundane. Sometimes your code will be broken, but in such a way that doesn't produce an error message. This makes debugging a real pain. Below we'll learn some ways to produce our own error messages, and provide ways to work around errors that we can predict."
   ]
  },
  {
   "cell_type": "markdown",
   "metadata": {},
   "source": [
    "## Assert statements"
   ]
  },
  {
   "cell_type": "markdown",
   "metadata": {},
   "source": [
    "Probably the simplest way for a programmer to generate an error on their own is through an assert statement. The assert keyword takes an expression and checks to see if that expression evaluates to True. If it does, then the program is allowed to continue. If not, it raises an *exception* (you can treat the word \"exception\" to be synonymous with \"error\" for now) and terminates the program. \n",
    "\n",
    "Let's take a look at this simple function which takes two lists, multiplies all of the elements with matching indices together, and adds up the result."
   ]
  },
  {
   "cell_type": "code",
   "execution_count": null,
   "metadata": {},
   "outputs": [],
   "source": [
    "def dot(a,b):\n",
    "    n = len(a)              #find out how long the list a is\n",
    "    answer = 0.0            #initialize a variable to hold our answer\n",
    "    for i in range(n):      #loop over the lists\n",
    "        answer += a[i]*b[i] #multiply each matching element of a and b, and add to answer\n",
    "    return answer           #return the answer"
   ]
  },
  {
   "cell_type": "markdown",
   "metadata": {},
   "source": [
    "Can you think of a reason this function might behave unexpectedly? What would happen if the lists had different lengths? Well, if a is shorter than b, this function will still give an answer without us ever knowing something is wrong. If a is longer than b, then we'll probably get an error when we try to access an index of b that doesn't exist. We can make sure this doesn't happen by using an assert statement to make sure that the two lists have the same length."
   ]
  },
  {
   "cell_type": "code",
   "execution_count": null,
   "metadata": {},
   "outputs": [],
   "source": [
    "def dot(a,b):\n",
    "    assert len(a) == len(b) #Make sure the two lists have equal length\n",
    "    n = len(a)              #find out how long the list a is\n",
    "    answer = 0.0            #initialize a variable to hold our answer\n",
    "    for i in range(n):      #loop over the lists\n",
    "        answer += a[i]*b[i] #multiply each matching element of a and b, and add to answer\n",
    "    return answer           #return the answer"
   ]
  },
  {
   "cell_type": "code",
   "execution_count": null,
   "metadata": {},
   "outputs": [],
   "source": [
    "dot([1,2,3],[4,5,6])"
   ]
  },
  {
   "cell_type": "code",
   "execution_count": null,
   "metadata": {},
   "outputs": [],
   "source": [
    "dot([1,2,3,3,3,3,3],[4,5,6])"
   ]
  },
  {
   "cell_type": "code",
   "execution_count": null,
   "metadata": {},
   "outputs": [],
   "source": [
    "dot([1,2],[4,5,6])"
   ]
  },
  {
   "cell_type": "markdown",
   "metadata": {},
   "source": [
    "We can make our assert statement more useful by putting in a message that will be displayed if the assertion fails:"
   ]
  },
  {
   "cell_type": "code",
   "execution_count": null,
   "metadata": {},
   "outputs": [],
   "source": [
    "def dot(a,b):\n",
    "    assert len(a)==len(b) , \"The lists given are not the same length.\"\n",
    "    n = len(a)\n",
    "    answer = 0.0\n",
    "    for i in range(n):\n",
    "        answer += a[i]*b[i]\n",
    "    return answer"
   ]
  },
  {
   "cell_type": "code",
   "execution_count": null,
   "metadata": {},
   "outputs": [],
   "source": [
    "dot([1,2,3,3,3,3,3],[4,5,6])\n",
    "dot([1,2,3],[4,5,6])"
   ]
  },
  {
   "cell_type": "markdown",
   "metadata": {},
   "source": [
    "## Try blocks"
   ]
  },
  {
   "cell_type": "markdown",
   "metadata": {},
   "source": [
    "Sometimes you can predict what kind of errors your code might run into, and immediately know how to fix it. Remember when we tried to write a function that solves the quadratic equation? We ran into a problem that sometimes our quadratic would have complex solutions (solutions with an imaginary part). We could just define a function that always uses complex numbers, but using complex numbers where they're not needed isn't really optimal. While this can be solved using an if statement, for the sake of demonstration, let's use a try block to fix this problem. Here's the new version of our quadratic solver:"
   ]
  },
  {
   "cell_type": "code",
   "execution_count": null,
   "metadata": {},
   "outputs": [],
   "source": [
    "import math\n",
    "import cmath #\"complex math\""
   ]
  },
  {
   "cell_type": "code",
   "execution_count": null,
   "metadata": {},
   "outputs": [],
   "source": [
    "def solver(a,b,c):\n",
    "    try:\n",
    "        x1 = (-b+math.sqrt(b**2-4*a*c))/(2*a)\n",
    "        x2 = (-b-math.sqrt(b**2-4*a*c))/(2*a)\n",
    "    except ValueError:\n",
    "        x1 = (-b+cmath.sqrt(b**2-4*a*c))/(2*a)\n",
    "        x2 = (-b-cmath.sqrt(b**2-4*a*c))/(2*a)\n",
    "    print(x1, x2)"
   ]
  },
  {
   "cell_type": "code",
   "execution_count": null,
   "metadata": {},
   "outputs": [],
   "source": [
    "solver(2,1,1)"
   ]
  },
  {
   "cell_type": "markdown",
   "metadata": {},
   "source": [
    "The above function will work for both real and complex answers! And if the answer is real, it won't use complex numbers (causing that unsightly +0j in the solution).\n",
    "\n",
    "Let's go over the try block in detail. The code first tries to run the code under the try keyword. If it succeeds (i.e. no exceptions occur), then it continues on to the print statement. However, if an exception occurs (as would happen if math.sqrt was given a negative number), it looks to see if we've given it a fall-back option in case that exception should occur, in the form of an except statement. To do this we write except and then the name of the error we're expecting (math.sqrt issues a ValueError if it encounters a negative number). The actual naming of the error is optional. If you just write \"except:\", then the code below it will be exectued if *any* exception occurs. You can even list multiple types of exceptions in a single except statement if you wish."
   ]
  },
  {
   "cell_type": "markdown",
   "metadata": {},
   "source": [
    "There are two more possible keywords that can be used to create blocks beneath a try block: the else keyword, and the finally keyword. They are not very common as they have very specific uses, but for any who are interested, I'll give a brief summary here. Anything in an else block of code will only be executed if the initial try block executed successfully (and not if the except block is what executed). Exceptions raised in the else block will *not* be caught by the except statement, which may be a good thing if you only want the except block to catch a very specific exception. The finally keyword is used to create a block of code that is executed whether or not an exception is raised. If an exception is raised that is caught by an except block, the finally block will run after the except block. If an exception is raised that is *not* caught by an except block, then the finally block will run *before* the exception is reported. In this way, it's sometimes used to \"sneak in\" code between the generation of an exception and the termination of the code execution."
   ]
  },
  {
   "cell_type": "code",
   "execution_count": null,
   "metadata": {},
   "outputs": [],
   "source": []
  }
 ],
 "metadata": {
  "kernelspec": {
   "display_name": "Python 3",
   "language": "python",
   "name": "python3"
  },
  "language_info": {
   "codemirror_mode": {
    "name": "ipython",
    "version": 3
   },
   "file_extension": ".py",
   "mimetype": "text/x-python",
   "name": "python",
   "nbconvert_exporter": "python",
   "pygments_lexer": "ipython3",
   "version": "3.6.5"
  }
 },
 "nbformat": 4,
 "nbformat_minor": 1
}
