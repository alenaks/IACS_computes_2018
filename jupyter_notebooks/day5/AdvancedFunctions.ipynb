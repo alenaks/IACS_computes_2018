{
 "cells": [
  {
   "cell_type": "markdown",
   "metadata": {
    "collapsed": true
   },
   "source": [
    "# Advanced Functions"
   ]
  },
  {
   "cell_type": "markdown",
   "metadata": {},
   "source": [
    "This notebook covers a smattering of some of the advanced features of functions. These concepts and tools should help you write more robust and efficient functions."
   ]
  },
  {
   "cell_type": "markdown",
   "metadata": {},
   "source": [
    "## Scope"
   ]
  },
  {
   "cell_type": "markdown",
   "metadata": {},
   "source": [
    "There are some things we need to know about when using functions. Recall the age function we wrote yesterday."
   ]
  },
  {
   "cell_type": "code",
   "execution_count": null,
   "metadata": {},
   "outputs": [],
   "source": [
    "def age(birth_year, birth_month, birth_day):\n",
    "    today = 17\n",
    "    this_month = 8\n",
    "    this_year = 2018\n",
    "    if (birth_month > this_month) or ((birth_month == this_month) and (birth_day >= today)):\n",
    "        return this_year - birth_year - 1\n",
    "    else:\n",
    "        return this_year - birth_year"
   ]
  },
  {
   "cell_type": "code",
   "execution_count": null,
   "metadata": {},
   "outputs": [],
   "source": [
    "age(1990,11,1)"
   ]
  },
  {
   "cell_type": "markdown",
   "metadata": {},
   "source": [
    " Note that in our age function, we have 6 variables. Their names are birth_year, birth_month, birth_day, today, this_month, and this_year. What's currently in those variables?"
   ]
  },
  {
   "cell_type": "code",
   "execution_count": null,
   "metadata": {
    "scrolled": true
   },
   "outputs": [],
   "source": [
    "today"
   ]
  },
  {
   "cell_type": "markdown",
   "metadata": {},
   "source": [
    "Hmm. It says today is not defined. This is actually the expected behavior. At this moment in time, the 6 variables inside age() *do not exist* anywhere in the computer. The variables birth_year, birth_month, and birth_day are only created when age() is called, and these variables can only be ued by age(). At the time they are created, they are given the values that we put in the parentheses. The variables today, this_month, and this_year are created *inside* age(). Here's the important part: When age() is done executing, all 6 of these variables are destroyed."
   ]
  },
  {
   "cell_type": "markdown",
   "metadata": {},
   "source": [
    "The variables that a function can see and use are part of a set called its *scope*. A variable is said to be in a function's scope if that function can see and use it."
   ]
  },
  {
   "cell_type": "markdown",
   "metadata": {},
   "source": [
    "Why does python do this? Well one reason is to prevent naming conflicts. Often in programming you will be calling functions that other people wrote. What happens if that person used a variable name that you also used? For a silly example, what if another piece of code had a variable called today but needed to call age? That code might look something like this:"
   ]
  },
  {
   "cell_type": "code",
   "execution_count": null,
   "metadata": {},
   "outputs": [],
   "source": [
    "today = \"Tuesday\" #Create a variable called today and give it a value\n",
    "age(1986,9,20)    #age has a variable called today that it sets to a number\n",
    "print(today)      #What's in today?"
   ]
  },
  {
   "cell_type": "markdown",
   "metadata": {},
   "source": [
    "Without the protective structure of scope, the variable today would have been overwritten by the function age, and our code might not have performed the way we anticipated down the road."
   ]
  },
  {
   "cell_type": "markdown",
   "metadata": {},
   "source": [
    "Python is special in that functions *can* look outside themselves for variables that have been already defined. Let's test this using some variable a:"
   ]
  },
  {
   "cell_type": "code",
   "execution_count": null,
   "metadata": {},
   "outputs": [],
   "source": [
    "a = 7.98"
   ]
  },
  {
   "cell_type": "code",
   "execution_count": null,
   "metadata": {},
   "outputs": [],
   "source": [
    "def age(birth_year, birth_month, birth_day):\n",
    "    today = 13\n",
    "    this_month = 7\n",
    "    this_year = 2016\n",
    "    print(\"I can see a! It's \", a) #This function can \"see\" a because it has been previously defined.\n",
    "    if (birth_month > this_month) or ((birth_month == this_month) and (birth_day >= today)):\n",
    "        return this_year - birth_year - 1\n",
    "    else:\n",
    "        return this_year - birth_year"
   ]
  },
  {
   "cell_type": "code",
   "execution_count": null,
   "metadata": {},
   "outputs": [],
   "source": [
    "age(1986,9,20)"
   ]
  },
  {
   "cell_type": "markdown",
   "metadata": {},
   "source": [
    "When a function encounters a variable, it first looks in it's own pool of variables to see if it finds a match. If it can find one, it uses that one. If it can't, then it looks outside the function. If we had defined another variable a inside age(), then age would have printed that one instead (try it!)"
   ]
  },
  {
   "cell_type": "markdown",
   "metadata": {},
   "source": [
    "So we've seen that a function can see a variable outside its scope (in Python), but what would happen if we tried to do this?"
   ]
  },
  {
   "cell_type": "code",
   "execution_count": null,
   "metadata": {},
   "outputs": [],
   "source": [
    "def age(birth_year, birth_month, birth_day):\n",
    "    today = 13\n",
    "    this_month = 7\n",
    "    this_year = 2016\n",
    "    a = a + 1 #change the variable a\n",
    "    print(\"I can see a! It's \", a)\n",
    "    if (birth_month > this_month) or ((birth_month == this_month) and (birth_day >= today)):\n",
    "        return this_year - birth_year - 1\n",
    "    else:\n",
    "        return this_year - birth_year"
   ]
  },
  {
   "cell_type": "code",
   "execution_count": null,
   "metadata": {},
   "outputs": [],
   "source": [
    "age(1990,11,1)"
   ]
  },
  {
   "cell_type": "markdown",
   "metadata": {},
   "source": [
    "OK, so a function can *see* a variable outside its scope in Python, but isn't allowed to change it. This is probably a good idea, for the reasons stated above.\n",
    "\n",
    "It actually is possible to change outside variables inside a function using the global keyword. If you really needed to do it, here's how it would be done."
   ]
  },
  {
   "cell_type": "code",
   "execution_count": null,
   "metadata": {},
   "outputs": [],
   "source": [
    "def age(birth_year, birth_month, birth_day):\n",
    "    global a #give age access to the global variable a. Generally not a good idea.\n",
    "    today = 13\n",
    "    this_month = 7\n",
    "    this_year = 2016\n",
    "    a = a + 1 #change the variable a\n",
    "    print(\"I can see a! It's \", a)\n",
    "    if (birth_month > this_month) or ((birth_month == this_month) and (birth_day >= today)):\n",
    "        return this_year - birth_year - 1\n",
    "    else:\n",
    "        return this_year - birth_year"
   ]
  },
  {
   "cell_type": "code",
   "execution_count": null,
   "metadata": {},
   "outputs": [],
   "source": [
    "age(1990,11,1)"
   ]
  },
  {
   "cell_type": "markdown",
   "metadata": {},
   "source": [
    "While accessing outside variables in a function is a cool feature, it's not usually considered a good practice. One of the big advantages of using functions is that it *compartmentalizes* your code. Compartmentalization is a technique where large codes are split into smaller chunks and each coded separately. This affords us not only readable code, but each piece of the code can then be reused later on if necessary (as you continue coding, you'll find yourself reusing your old code a lot!). If a function that you wrote requires an outside variable to work, then it becomes more difficult for you (and others) to reuse later. And if your function changes an outside variable, it can very easily lead to unintended consequences when used as part of a larger code (and this becomes a true pain to debug). If your function needs information from outside, simply write that function to take that information in as an argument, and if your function needs to change something on the outside, write it as an output."
   ]
  },
  {
   "cell_type": "markdown",
   "metadata": {},
   "source": [
    "## Default Parameters and Keyword Arguments"
   ]
  },
  {
   "cell_type": "markdown",
   "metadata": {},
   "source": [
    "We've seen how to specify which inputs a function needs in order to operate, and how they are handled by the function. There are times, however, when we may want to specify a *default parameter* for one or more of the function inputs. A default parameter is simply a value for a variable that is automatically stored there in the event the user doesn't specify an input. I'll give some examples of when this is a good idea, but first, let's look at how we do this. Here's a function (that you may have written yesterday) that creates a list of points between two numbers that are input. A third input defines the number of points to be in the list."
   ]
  },
  {
   "cell_type": "code",
   "execution_count": null,
   "metadata": {},
   "outputs": [],
   "source": [
    "def linspace(a=0,b=1,n=11):  #create a list of n points starting at a and ending at b\n",
    "    \n",
    "    # The size of each step\n",
    "    dx = (b-a)/(n-1)\n",
    "    \n",
    "    # The answer to return\n",
    "    answer = []\n",
    "    \n",
    "    # Our loop\n",
    "    for i in range(n):\n",
    "        \n",
    "        # Append correct answer to the list\n",
    "        answer.append(a + dx * i)\n",
    "        \n",
    "    # Return our answer\n",
    "    return answer"
   ]
  },
  {
   "cell_type": "markdown",
   "metadata": {},
   "source": [
    "The implementation of the default parameters occurs inside the parentheses of the first line of the function definition. Where we specify the variables to be used, a, b, and n, we also provide default values. If the user (the person calling the function) doesn't input any of these values, the function will still work. It will simply use the default value. When defining a function, any number of variables can have default values. In all of the examples up until now, none of our variables had default values. In this case, we gave all of them default values. Because this function has a default value for all of its parameters, we can acually call this function with no inputs, like this:"
   ]
  },
  {
   "cell_type": "code",
   "execution_count": null,
   "metadata": {},
   "outputs": [],
   "source": [
    "linspace()"
   ]
  },
  {
   "cell_type": "markdown",
   "metadata": {},
   "source": [
    "We can specify only the first input, or the first two inputs, like this:"
   ]
  },
  {
   "cell_type": "code",
   "execution_count": null,
   "metadata": {},
   "outputs": [],
   "source": [
    "linspace(-1) #Will give 11 points from -1 to 1"
   ]
  },
  {
   "cell_type": "code",
   "execution_count": null,
   "metadata": {},
   "outputs": [],
   "source": [
    "linspace(0,100) #will give 11 points from 0 to 100"
   ]
  },
  {
   "cell_type": "markdown",
   "metadata": {},
   "source": [
    "Using this strategy, you may have noticed that we can specify a and b, and leave n unspecified, but what if we want to specify n, but not b. You might try this:"
   ]
  },
  {
   "cell_type": "code",
   "execution_count": null,
   "metadata": {},
   "outputs": [],
   "source": [
    "linspace(0,,21) #create a list of 21 numbers from 0 to 1?"
   ]
  },
  {
   "cell_type": "markdown",
   "metadata": {},
   "source": [
    "Unfortunately, Python doesn't understand what we mean in this case. The solution to this problem is *keyword arguments*. If you know the names that a function uses for its variables, you can specify what those variables should be by name. Like this:"
   ]
  },
  {
   "cell_type": "code",
   "execution_count": null,
   "metadata": {},
   "outputs": [],
   "source": [
    "linspace(a = 0, n = 21) #set linspace's a to 0 and n to 21, but use the default for b"
   ]
  },
  {
   "cell_type": "markdown",
   "metadata": {},
   "source": [
    "We know linspace names its variables a, b, and n, so we take advantage of this to explicitly specify them when we call the function. Notice that we didn't specify b, but since it has a default value, Python knows what to do."
   ]
  },
  {
   "cell_type": "markdown",
   "metadata": {},
   "source": [
    "When is this useful? Maybe you're writing a code that is very technical, but you want everyday people to be able to use it. Maybe the average person doesn't need to be able to specify everything, but a more informed user would like the ability to be more specific. For example, you could have used a default parameter for your Caeser cypher yesterday. If you put the default shift at 5, then most users could simply write encrypt('message') and decrypt('message'), but someone who wants more control over the function can specify an exact shift."
   ]
  },
  {
   "cell_type": "markdown",
   "metadata": {},
   "source": [
    "A common use of default parameters is to assign booleans, and use these to control what the function does or doesn't do. For example, what if we wanted our linspace function to print its variable dx, but only sometimes? We could introduce a boolean variable to do this. "
   ]
  },
  {
   "cell_type": "code",
   "execution_count": null,
   "metadata": {},
   "outputs": [],
   "source": [
    "def linspace(a=0,b=1,n=11, printdx = False):\n",
    "    \n",
    "    # Make sure everything is correct type\n",
    "    a = float(a)\n",
    "    b = float(b)\n",
    "    n = int(n)\n",
    "    \n",
    "    # The size of each step\n",
    "    dx = (b-a)/(n-1)\n",
    "    \n",
    "    #print dx if the user wants to\n",
    "    if printdx:\n",
    "        print(\"dx =\", dx)\n",
    "    \n",
    "    # The answer to return\n",
    "    answer = []\n",
    "    \n",
    "    # Our loop\n",
    "    for i in range(n):\n",
    "        \n",
    "        # Append correct answer to the list\n",
    "        answer.append(a + dx * i)\n",
    "        \n",
    "    # Return our answer\n",
    "    return answer"
   ]
  },
  {
   "cell_type": "code",
   "execution_count": null,
   "metadata": {},
   "outputs": [],
   "source": [
    "linspace(0,1,21) #the default behavior"
   ]
  },
  {
   "cell_type": "code",
   "execution_count": null,
   "metadata": {},
   "outputs": [],
   "source": [
    "linspace(0,1,21,True) #this time print dx"
   ]
  },
  {
   "cell_type": "markdown",
   "metadata": {},
   "source": [
    "## Recursion"
   ]
  },
  {
   "cell_type": "markdown",
   "metadata": {},
   "source": [
    "We've already learned one way to repeat a piece of code over and over again: loops. Specifically while loops and for loops. Let's introduce another way of doing this called *recursion*. Perhaps the best way to learn recursion is by example. Let's start with an example that uses a while loop, and then turn it into a recursive function."
   ]
  },
  {
   "cell_type": "markdown",
   "metadata": {},
   "source": [
    "The following function uses a while loop to print powers of 2. It takes a nonnegative integer n, which is the highest power of 2 that it will print."
   ]
  },
  {
   "cell_type": "code",
   "execution_count": null,
   "metadata": {},
   "outputs": [],
   "source": [
    "def powers(n):\n",
    "    i = 0\n",
    "    while i <= n:\n",
    "        print(2**i)\n",
    "        i = i + 1"
   ]
  },
  {
   "cell_type": "code",
   "execution_count": null,
   "metadata": {},
   "outputs": [],
   "source": [
    "powers(6) #print the first 7 powers of 2 (including 2**0)"
   ]
  },
  {
   "cell_type": "markdown",
   "metadata": {},
   "source": [
    "However, another way to do this is with recursion. Here's how this function would look with recursion:"
   ]
  },
  {
   "cell_type": "code",
   "execution_count": null,
   "metadata": {},
   "outputs": [],
   "source": [
    "def powers(n):\n",
    "    if n == 0 :\n",
    "        print(1) #Handle the n == 0 case EXPLICITLY\n",
    "    else:\n",
    "        powers(n-1) #This is the key step. Wait...did we just call our function inside itself???\n",
    "        print(2**n)"
   ]
  },
  {
   "cell_type": "code",
   "execution_count": null,
   "metadata": {},
   "outputs": [],
   "source": [
    "powers(6)"
   ]
  },
  {
   "cell_type": "markdown",
   "metadata": {},
   "source": [
    "Let's take a look at how recursion works. The first step is identifying the base-case problem, which can be solved very easily. In our case, 2^0 is a very easy problem, so we just go ahead and print the answer, 1.\n",
    "\n",
    "Next is the tricky part. We need to find a way for every problem to be simplified such that it eventually becomes the base case problem. In our case, we can subtract 1 from n. If we keep subtracting 1 from n, we will eventualy get to 0, which is our base case. This second part of the recursion problem gets handled in the else statement. We handle only the problem we're currently at (which is the nth power of 2) and call powers() on the simplified problem, n-1."
   ]
  },
  {
   "cell_type": "markdown",
   "metadata": {},
   "source": [
    "The strange part about recursion is having a function call itself. Obviously, this would go on forever if we didn't somehow stop it. This is the purpose of the base case. When powers(6) get's called, it calls powers(5), which calls powers(4), and so on until powers(1) calls powers(0). powers(0) doesn't call powers(-1) because of the conditional we set up. Instead it simply prints the number 1 then hands control back to powers(1). powers(1) prints 2^1, and then hands control back to powers(2), and so on. Once control gets handed back to powers(6), it prints 2^6 and then the function ends."
   ]
  },
  {
   "cell_type": "markdown",
   "metadata": {},
   "source": [
    "What happens if we don't have a base case? Or similarly, what happens if we write a base case that is never reached? Let's find out:"
   ]
  },
  {
   "cell_type": "code",
   "execution_count": null,
   "metadata": {},
   "outputs": [],
   "source": [
    "powers(-2)"
   ]
  },
  {
   "cell_type": "markdown",
   "metadata": {},
   "source": [
    "You might have guessed that this would run forever. On a massive computer, you'd basically be correct. The issue with most recursive functions is that each function call takes up some of the memory on the computer, and use of recursion can generate a LOT of function calls that don't get resolved until the very end. If you run out of memory on your computer before you hit the base case of your function, the program will crash, and maybe even your computer too. Fortunately Python helps prevent this from happening by limiting how far down into a recursive function you can go. If you exceed that number, it quits.\n",
    "\n",
    "When we ran powers(-2), it called powers(-3), which called powers(-4), and so on. It never reached the base case of 0, so it eventually reached the maximum recursion depth, and printed an error."
   ]
  },
  {
   "cell_type": "markdown",
   "metadata": {
    "collapsed": true
   },
   "source": [
    "Virtually anything that you write with a loop, you can write with recursion instead. In fact, some programming languages don't have a concept of loops. This means that anything you want to do repetitively *must* be done with recursion. Let's do another example just to reinforce the concept of recursion. When we were learning about for loops, we did an example that took a string and turned every other letter into an underscore. Let's write this one with recursion."
   ]
  },
  {
   "cell_type": "code",
   "execution_count": null,
   "metadata": {},
   "outputs": [],
   "source": [
    "def sillystring(mystring):\n",
    "    #we actually have two base cases: when the length of the string is 1 or 0.\n",
    "    #Luckily we can cover both of these cases with a single condition\n",
    "    if len(mystring) < 2:\n",
    "        return mystring #If the length of the string is 1 or 0, do nothing\n",
    "    else:\n",
    "        #in this block we're guaranteed to be working with a string of 2 or more characters\n",
    "        #Let's just look at the first 2 characters of our string and make the\n",
    "        #necessary modification\n",
    "        \n",
    "        #We leave the first character intact, attach an underscore,\n",
    "        #and then call sillystring on the rest of mystring\n",
    "        return mystring[0] + \"_\" + sillystring(mystring[2:])\n",
    "    "
   ]
  },
  {
   "cell_type": "code",
   "execution_count": null,
   "metadata": {},
   "outputs": [],
   "source": [
    "sillystring(\"I like potatoes.\")"
   ]
  },
  {
   "cell_type": "markdown",
   "metadata": {},
   "source": [
    "## Practice Problems"
   ]
  },
  {
   "cell_type": "markdown",
   "metadata": {},
   "source": [
    "In the cell below write a function called `factorial` with an argurment `n` as input, the function returns the production of first n positive integers starting from 1. Use a for loop to implement the function\n",
    "\n",
    "**Example:** $5! = 5*4*3*2*1 = 120$, $2! = 2*1 = 2$"
   ]
  },
  {
   "cell_type": "code",
   "execution_count": null,
   "metadata": {},
   "outputs": [],
   "source": [
    "def factorial(n):\n",
    "    num = 1\n",
    "    for i in range(1,n+1):\n",
    "        num = num * i\n",
    "    return num\n",
    "\n",
    "factorial(5)"
   ]
  },
  {
   "cell_type": "markdown",
   "metadata": {},
   "source": [
    "In the cell below implement a recursive version of the of the factorial function"
   ]
  },
  {
   "cell_type": "code",
   "execution_count": null,
   "metadata": {},
   "outputs": [],
   "source": [
    "def factorial_new(n):\n",
    "    if n == 1:\n",
    "        return 1\n",
    "    return n*factorial_new(n-1)\n",
    "\n",
    "factorial_new(5)"
   ]
  },
  {
   "cell_type": "markdown",
   "metadata": {},
   "source": [
    "In the cell below implement a recursive function for generating the function $f(x) = 3x$"
   ]
  },
  {
   "cell_type": "code",
   "execution_count": null,
   "metadata": {},
   "outputs": [],
   "source": [
    "def f(x):\n",
    "    if x == 0:\n",
    "        return 0\n",
    "    return 3 + f(x-1)\n",
    "\n",
    "f(5)"
   ]
  },
  {
   "cell_type": "markdown",
   "metadata": {},
   "source": [
    "In the cell below implement a recursive function to calculate the sum of first n positive integers"
   ]
  },
  {
   "cell_type": "code",
   "execution_count": null,
   "metadata": {},
   "outputs": [],
   "source": [
    "def f(x):\n",
    "    if x == 0:\n",
    "        return 0\n",
    "    return x + f(x-1)\n",
    "\n",
    "f(5)"
   ]
  },
  {
   "cell_type": "markdown",
   "metadata": {},
   "source": [
    "The Fibonacci numbers are the numbers of the following sequence of integer values: \n",
    "\n",
    "$0,1,1,2,3,5,8,13,21,34,55,89, \\dots$ \n",
    "\n",
    "The Fibonacci numbers are defined by: \n",
    "$F_{n} = F_{n-1} + F_{n-2}$\n",
    "with $F_{0} = 0$ and $F_{1} = 1$\n",
    "\n",
    "In the cell below implement a function to generate the first n Fibonaaci numbers"
   ]
  },
  {
   "cell_type": "code",
   "execution_count": 4,
   "metadata": {},
   "outputs": [
    {
     "name": "stdout",
     "output_type": "stream",
     "text": [
      "0 1 1 2 3 5 8 13 21 34 "
     ]
    }
   ],
   "source": [
    "def fib(x):\n",
    "    if x == 0:\n",
    "        return 0\n",
    "    if x == 1:\n",
    "        return 1\n",
    "    \n",
    "    return fib(x-1) + fib(x-2)\n",
    "\n",
    "def print_fib(x):\n",
    "    for i in range(x):\n",
    "        print(fib(i), end=\" \")\n",
    "        \n",
    "print_fib(10)"
   ]
  },
  {
   "cell_type": "markdown",
   "metadata": {},
   "source": [
    "## Advanced Problems"
   ]
  },
  {
   "cell_type": "markdown",
   "metadata": {},
   "source": [
    "Write a function which implements the Pascal's triangle: (http://mathforum.org/dr.math/faq/faq.pascal.triangle.html)"
   ]
  },
  {
   "cell_type": "code",
   "execution_count": 13,
   "metadata": {},
   "outputs": [
    {
     "name": "stdout",
     "output_type": "stream",
     "text": [
      "1\n",
      "1 1\n",
      "1 2 1\n",
      "1 3 3 1\n",
      "1 4 6 4 1\n",
      "1 5 10 10 5 1\n",
      "1 6 15 20 15 6 1\n",
      "1 7 21 35 35 21 7 1\n",
      "1 8 28 56 70 56 28 8 1\n",
      "1 9 36 84 126 126 84 36 9 1\n"
     ]
    },
    {
     "data": {
      "text/plain": [
       "[1, 9, 36, 84, 126, 126, 84, 36, 9, 1]"
      ]
     },
     "execution_count": 13,
     "metadata": {},
     "output_type": "execute_result"
    }
   ],
   "source": [
    "def pascal(n):\n",
    "    if n == 1:\n",
    "        print(\"1\")\n",
    "        return [1]\n",
    "    if n == 2:\n",
    "        previous = pascal(1)\n",
    "        print(\"1 1\")\n",
    "        return [1,1]\n",
    "    \n",
    "    previous = pascal(n-1)\n",
    "    new = [1] + [previous[i]+previous[i+1] for i in range(len(previous)-1)] + [1]\n",
    "    print(\" \".join([str(i) for i in new[:]]))\n",
    "    return new\n",
    "\n",
    "\n",
    "def pascal_old(n):\n",
    "    if n == 1:\n",
    "        print([1])\n",
    "        return [1]\n",
    "    if n == 2:\n",
    "        previous = pascal_old(1)\n",
    "        print([1,1])\n",
    "        return [1,1]\n",
    "    \n",
    "    previous = pascal_old(n-1)\n",
    "    new = [1]\n",
    "    for i in range(len(previous)-1):\n",
    "        new.append(previous[i] + previous[i+1])\n",
    "    new.append(1)\n",
    "    print(new)\n",
    "    return new\n",
    "\n",
    "pascal(10)"
   ]
  },
  {
   "cell_type": "code",
   "execution_count": null,
   "metadata": {},
   "outputs": [],
   "source": []
  },
  {
   "cell_type": "code",
   "execution_count": null,
   "metadata": {},
   "outputs": [],
   "source": []
  }
 ],
 "metadata": {
  "kernelspec": {
   "display_name": "Python 3",
   "language": "python",
   "name": "python3"
  },
  "language_info": {
   "codemirror_mode": {
    "name": "ipython",
    "version": 3
   },
   "file_extension": ".py",
   "mimetype": "text/x-python",
   "name": "python",
   "nbconvert_exporter": "python",
   "pygments_lexer": "ipython3",
   "version": "3.6.5"
  }
 },
 "nbformat": 4,
 "nbformat_minor": 1
}
