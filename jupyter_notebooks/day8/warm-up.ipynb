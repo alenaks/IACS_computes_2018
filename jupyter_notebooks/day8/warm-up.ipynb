{
 "cells": [
  {
   "cell_type": "markdown",
   "metadata": {},
   "source": [
    "# Practice\n",
    "\n",
    "\n",
    "#### Problem 1: warm-up\n",
    "Write a function `leap` that determines whether a given year is common or leap.\n",
    "\n",
    "Leap year occur mostly every 4 years, but every 100 years we skip a leap year unless the year is divisible by 400."
   ]
  },
  {
   "cell_type": "code",
   "execution_count": null,
   "metadata": {},
   "outputs": [],
   "source": [
    "def leap(year):\n",
    "    if year % 4 == 0:\n",
    "        if not year % 100 == 0 or year % 400 == 0:\n",
    "            return True\n",
    "    return False\n",
    "\n",
    "leap(2100)"
   ]
  },
  {
   "cell_type": "markdown",
   "metadata": {},
   "source": [
    "Then, write a function `leap_years` that tells you which ones out of the next `n` years are going to be the leap ones."
   ]
  },
  {
   "cell_type": "code",
   "execution_count": null,
   "metadata": {},
   "outputs": [],
   "source": [
    "def leap_years(n):\n",
    "    \n",
    "    l = []\n",
    "    cy = 2018\n",
    "    \n",
    "    for i in range(1, n):\n",
    "        check = leap(cy+i)\n",
    "        if check:\n",
    "            l.append(cy+i)\n",
    "            \n",
    "    return l\n",
    "\n",
    "leap_years(20)"
   ]
  },
  {
   "cell_type": "code",
   "execution_count": null,
   "metadata": {},
   "outputs": [],
   "source": [
    "def fancy_leap_years(n):\n",
    "    return [i for i in range(2018,2018+n) if leap(i)]\n",
    "\n",
    "fancy_leap_years(50)"
   ]
  },
  {
   "cell_type": "markdown",
   "metadata": {},
   "source": [
    "#### Problem 2: advanced\n",
    "\n",
    "Write a function which implements the [Pascal's triangle](http://mathforum.org/dr.math/faq/faq.pascal.triangle.html)."
   ]
  },
  {
   "cell_type": "code",
   "execution_count": null,
   "metadata": {},
   "outputs": [],
   "source": [
    "def pascal(n):\n",
    "    \n",
    "    if n == 1:\n",
    "        print([1])\n",
    "        return [1]\n",
    "    if n == 2:\n",
    "        print([1])\n",
    "        print([1,1])\n",
    "        return [1,1]\n",
    "    \n",
    "    prev_level = pascal(n-1)\n",
    "    new = [1]\n",
    "    for i in range(len(prev_level)-1):\n",
    "        new.append(prev_level[i]+prev_level[i+1])\n",
    "    new.append(1)\n",
    "    print(new)\n",
    "    return new"
   ]
  },
  {
   "cell_type": "code",
   "execution_count": null,
   "metadata": {},
   "outputs": [],
   "source": [
    "pascal(7)"
   ]
  }
 ],
 "metadata": {
  "kernelspec": {
   "display_name": "Python 3",
   "language": "python",
   "name": "python3"
  },
  "language_info": {
   "codemirror_mode": {
    "name": "ipython",
    "version": 3
   },
   "file_extension": ".py",
   "mimetype": "text/x-python",
   "name": "python",
   "nbconvert_exporter": "python",
   "pygments_lexer": "ipython3",
   "version": "3.6.5"
  }
 },
 "nbformat": 4,
 "nbformat_minor": 2
}
