{
 "cells": [
  {
   "cell_type": "markdown",
   "metadata": {
    "collapsed": true
   },
   "source": [
    "# Strings "
   ]
  },
  {
   "cell_type": "markdown",
   "metadata": {},
   "source": [
    "What is a string?\n",
    "How is it different from another data type (ex. int)?"
   ]
  },
  {
   "cell_type": "markdown",
   "metadata": {},
   "source": [
    "## Basics "
   ]
  },
  {
   "cell_type": "markdown",
   "metadata": {},
   "source": [
    "Let's define a string and save it to a variable.\n"
   ]
  },
  {
   "cell_type": "code",
   "execution_count": null,
   "metadata": {},
   "outputs": [],
   "source": [
    "a = Woof"
   ]
  },
  {
   "cell_type": "code",
   "execution_count": null,
   "metadata": {},
   "outputs": [],
   "source": [
    "a = \"Woof\"\n",
    "b = \"Meow\"\n",
    "c = \"Squirrel\""
   ]
  },
  {
   "cell_type": "markdown",
   "metadata": {},
   "source": [
    "We can print the contents of a string in a simple and straightforward manner:"
   ]
  },
  {
   "cell_type": "code",
   "execution_count": null,
   "metadata": {},
   "outputs": [],
   "source": [
    "print(a)"
   ]
  },
  {
   "cell_type": "markdown",
   "metadata": {},
   "source": [
    "Python strings can be written using ' or \", as long as they match."
   ]
  },
  {
   "cell_type": "code",
   "execution_count": null,
   "metadata": {},
   "outputs": [],
   "source": [
    "print('Hello')\n",
    "print(\"Goodbye\")"
   ]
  },
  {
   "cell_type": "markdown",
   "metadata": {},
   "source": [
    "We can add two strings together (this process is commonly called concatenation)."
   ]
  },
  {
   "cell_type": "code",
   "execution_count": null,
   "metadata": {},
   "outputs": [],
   "source": [
    "\"Woof\" + \"Meow\""
   ]
  },
  {
   "cell_type": "markdown",
   "metadata": {},
   "source": [
    "We can also do this with strings stored in variables."
   ]
  },
  {
   "cell_type": "code",
   "execution_count": null,
   "metadata": {},
   "outputs": [],
   "source": [
    "a = \"Woof\"\n",
    "b = \"Meow\"\n",
    "a + b"
   ]
  },
  {
   "cell_type": "markdown",
   "metadata": {},
   "source": [
    "Can I use multiplication instead of addition? How about division?"
   ]
  },
  {
   "cell_type": "code",
   "execution_count": null,
   "metadata": {
    "scrolled": true
   },
   "outputs": [],
   "source": [
    "a*5"
   ]
  },
  {
   "cell_type": "markdown",
   "metadata": {},
   "source": [
    "[Pop Quiz] Take the strings \"Hello\" and \" World\", and print the sum twice back-to-back."
   ]
  },
  {
   "cell_type": "code",
   "execution_count": null,
   "metadata": {},
   "outputs": [],
   "source": [
    "print((\"Hello\"+\" World\")*2)\n"
   ]
  },
  {
   "cell_type": "code",
   "execution_count": null,
   "metadata": {},
   "outputs": [],
   "source": [
    "# First sum the two strings\n",
    "my_string = \"Hello\" + \" World\"\n",
    "\n",
    "# Print the new string twice by multiplying it times 2\n",
    "print(my_string*2)"
   ]
  },
  {
   "cell_type": "markdown",
   "metadata": {},
   "source": [
    "### Strings are basically lists"
   ]
  },
  {
   "cell_type": "markdown",
   "metadata": {},
   "source": [
    "Yesterday, we learned with Sanket about lists. Python sees strings as a list of characters. So, we can access characters in strings just like we do with elements in lists."
   ]
  },
  {
   "cell_type": "code",
   "execution_count": null,
   "metadata": {},
   "outputs": [],
   "source": [
    "c = \"Squirrel\"\n",
    "c[1]"
   ]
  },
  {
   "cell_type": "code",
   "execution_count": null,
   "metadata": {},
   "outputs": [],
   "source": [
    "c[10]"
   ]
  },
  {
   "cell_type": "markdown",
   "metadata": {},
   "source": [
    "Just like in normal lists in Python, we also use negative indices."
   ]
  },
  {
   "cell_type": "code",
   "execution_count": null,
   "metadata": {},
   "outputs": [],
   "source": [
    "c[-1]"
   ]
  },
  {
   "cell_type": "markdown",
   "metadata": {},
   "source": [
    "[Pop Quiz] What is the sixth character of the string \"race car\"?"
   ]
  },
  {
   "cell_type": "code",
   "execution_count": null,
   "metadata": {
    "scrolled": true
   },
   "outputs": [],
   "source": [
    "\"race car\"[6]"
   ]
  },
  {
   "cell_type": "markdown",
   "metadata": {},
   "source": [
    "I'm writing an interactive joke in Python, and I want to include a quote in the punchline:"
   ]
  },
  {
   "cell_type": "code",
   "execution_count": null,
   "metadata": {},
   "outputs": [],
   "source": [
    "newstring0 = \"And then I told her, \"Well you better go catch it!\"\""
   ]
  },
  {
   "cell_type": "markdown",
   "metadata": {},
   "source": [
    "How can I fix this problem?? Hint: I have to tell Python somehow that I don't want this character to be special."
   ]
  },
  {
   "cell_type": "code",
   "execution_count": null,
   "metadata": {},
   "outputs": [],
   "source": [
    "newstring1 = \"And then I told her, \\\"Well you better go catch it!\\\"\"  \n",
    "print(newstring1)"
   ]
  },
  {
   "cell_type": "code",
   "execution_count": null,
   "metadata": {},
   "outputs": [],
   "source": [
    "newstring2 = \"Here is\\na new line\"\n",
    "print(newstring2)"
   ]
  },
  {
   "cell_type": "code",
   "execution_count": null,
   "metadata": {},
   "outputs": [],
   "source": [
    "newstring3 = \"Here is a\\ttab\" \n",
    "print(newstring3)"
   ]
  },
  {
   "cell_type": "code",
   "execution_count": null,
   "metadata": {},
   "outputs": [],
   "source": [
    "newstring4 = \"And I put a backslash \\\\ into this string.\" \n",
    "print(newstring4)"
   ]
  },
  {
   "cell_type": "markdown",
   "metadata": {},
   "source": [
    "## Important Functions "
   ]
  },
  {
   "cell_type": "markdown",
   "metadata": {},
   "source": [
    "So what are some built-in things we can do with strings? Just like with lists, we can use the len( ) function to give the length of the string."
   ]
  },
  {
   "cell_type": "code",
   "execution_count": null,
   "metadata": {},
   "outputs": [],
   "source": [
    "a = \"Woof\"\n",
    "len(a)"
   ]
  },
  {
   "cell_type": "code",
   "execution_count": null,
   "metadata": {},
   "outputs": [],
   "source": [
    "c = \"Squirrel\"\n",
    "len(c)"
   ]
  },
  {
   "cell_type": "markdown",
   "metadata": {},
   "source": [
    "We can remove the white space surrounding a string using a function called strip()."
   ]
  },
  {
   "cell_type": "code",
   "execution_count": null,
   "metadata": {},
   "outputs": [],
   "source": [
    "line = \"     Lots of     spaces        \"\n",
    "print(line.strip() + \".\")\n",
    "print(line.lstrip() + \".\")\n",
    "print(line.rstrip() + \".\")"
   ]
  },
  {
   "cell_type": "markdown",
   "metadata": {},
   "source": [
    "We can also get rid of all the white space in a string and save each word into a seperate index in a list using a function called split( )."
   ]
  },
  {
   "cell_type": "code",
   "execution_count": null,
   "metadata": {
    "scrolled": true
   },
   "outputs": [],
   "source": [
    "line = \"So     many    spaces               everywhere!\"\n",
    "new_list = line.split()\n",
    "print(new_list) #note that this is a list of strings, not a string itself!"
   ]
  },
  {
   "cell_type": "markdown",
   "metadata": {},
   "source": [
    "We can turn the new list of strings back into one big string."
   ]
  },
  {
   "cell_type": "code",
   "execution_count": null,
   "metadata": {},
   "outputs": [],
   "source": [
    "print(\" \".join(new_list))"
   ]
  },
  {
   "cell_type": "markdown",
   "metadata": {},
   "source": [
    "[Pop Quiz] Break the following sentence into individual words: \"This is a boring sentence.\" Then print each word, one per line."
   ]
  },
  {
   "cell_type": "code",
   "execution_count": null,
   "metadata": {},
   "outputs": [],
   "source": [
    "s = \"This is a boring sentence.\".split()\n",
    "n = len(s)\n",
    "i = 0\n",
    "while i < n:\n",
    "    print(s[i])\n",
    "    i += 1"
   ]
  },
  {
   "cell_type": "markdown",
   "metadata": {},
   "source": [
    "We can replace characters too!"
   ]
  },
  {
   "cell_type": "code",
   "execution_count": null,
   "metadata": {},
   "outputs": [],
   "source": [
    "print(\"cat\".replace(\"c\",\"h\"))"
   ]
  },
  {
   "cell_type": "markdown",
   "metadata": {},
   "source": [
    "How do I get only the words out of this screen name?"
   ]
  },
  {
   "cell_type": "code",
   "execution_count": null,
   "metadata": {},
   "outputs": [],
   "source": [
    "a = \"jean_luc_picard\""
   ]
  },
  {
   "cell_type": "code",
   "execution_count": null,
   "metadata": {},
   "outputs": [],
   "source": [
    "a.split(\"_\")"
   ]
  },
  {
   "cell_type": "markdown",
   "metadata": {},
   "source": [
    "### Real-world Mini Exercise: Sentiment analysis\n",
    "\n",
    "[Sentiment analysis](https://en.wikipedia.org/wiki/Sentiment_analysis), or *emotion AI*, is an area of Natural Language Processing (NLP) that allows to extract and quantify opinions and emotions from the text.\n",
    "\n",
    "We will continue looking at this task more later, but now let us create a super simple sentiment analysis system. Namely, we the computer will read a sentence and understand whether it is nice or rude. :)\n",
    "\n",
    "Let us start by learning one more method defined over the strings -- `str.split()`."
   ]
  },
  {
   "cell_type": "code",
   "execution_count": null,
   "metadata": {},
   "outputs": [],
   "source": [
    "s = \"This is a string\"\n",
    "my_list = s.split()\n",
    "print(my_list)"
   ]
  },
  {
   "cell_type": "markdown",
   "metadata": {},
   "source": [
    "As you can see, this method splits a string into separate words.\n",
    "\n",
    "Now we can start the sentiment analysis task!\n",
    "\n",
    "\n",
    "###### What is good and what is bad?\n",
    "Below, define two lists: `good_words` and `bad_words` that contain good and bad words, correspondingly. After, define a string `tweet` that will contain some phrase. (For now, avoid using the punctuations!)"
   ]
  },
  {
   "cell_type": "code",
   "execution_count": null,
   "metadata": {},
   "outputs": [],
   "source": [
    "good_words = [\"good\", \"well\", \"nice\"]\n",
    "bad_words = [\"bad\", \"nasty\", \"eww\"]\n",
    "tweet = \"This book is good and nice :)\""
   ]
  },
  {
   "cell_type": "markdown",
   "metadata": {},
   "source": [
    "Now, split the `tweet` into separate words. Try these tweets:"
   ]
  },
  {
   "cell_type": "markdown",
   "metadata": {},
   "source": [
    "1. \"Sentiment analysis is fun and easy!\" \n",
    "2. \"I don't like reading all of the negative tweets. :(\"\n",
    "3. \"I love ice cream. :D\"\n",
    "4. \"My back is itchy.\"`"
   ]
  },
  {
   "cell_type": "markdown",
   "metadata": {},
   "source": [
    "Now, it is going to be difficult! Create a variables `good` and `bad` which you will increment by `1` every time you encounter a good or a bad word in the `tweet`. Using the `while` loop, look at every word in your `tweet` (**hint**: `len` might help here somehow), and see whether you can find it in the list of good or bad words. Every time you see a good or a bad word, update the corresponding counter."
   ]
  },
  {
   "cell_type": "code",
   "execution_count": null,
   "metadata": {},
   "outputs": [],
   "source": [
    "tweet = tweet.split()\n",
    "# create two counters\n",
    "good = 0\n",
    "bad = 0\n",
    "\n",
    "# using while, loop over every word in your tweet\n",
    "n = len(tweet)\n",
    "i = 0\n",
    "while i < n:\n",
    "    # if the word in the good or bad list, update the corresponding counter\n",
    "    if tweet[i] in good_words:\n",
    "        good += 1\n",
    "    elif tweet[i] in bad_words:\n",
    "        bad += 1\n",
    "    i += 1"
   ]
  },
  {
   "cell_type": "markdown",
   "metadata": {},
   "source": [
    "Now, you should have the two counters. Maybe `good = 5` and `bad = 2`. Then we want to conclude that the tweet is mostly positive, right? Let's write a conditions that:\n",
    "1. will print \"not enough data in my lists of bad and good words\" if both counters are zero;\n",
    "2. will print that the text is mostly positive if `good` is bigger than `bad`;\n",
    "3. think about two additional outcomes!"
   ]
  },
  {
   "cell_type": "code",
   "execution_count": null,
   "metadata": {},
   "outputs": [],
   "source": [
    "# the conditional statements go here\n",
    "if good == 0 and bad == 0:\n",
    "    print(\"Not enough data!\")\n",
    "elif good > bad:\n",
    "    print(\"The tweet is good!\")\n",
    "elif bad > good:\n",
    "    print(\"The tweet is bad!\")\n",
    "else:\n",
    "    print(\"The tweet is neutral.\")"
   ]
  },
  {
   "cell_type": "markdown",
   "metadata": {},
   "source": [
    "### Testing Strings"
   ]
  },
  {
   "cell_type": "markdown",
   "metadata": {},
   "source": [
    "We can test if a character or even a string is inside another string using the \"in\" keyword."
   ]
  },
  {
   "cell_type": "code",
   "execution_count": null,
   "metadata": {},
   "outputs": [],
   "source": [
    "\"a\" in \"car\""
   ]
  },
  {
   "cell_type": "code",
   "execution_count": null,
   "metadata": {},
   "outputs": [],
   "source": [
    "\"cat\" in \"The cat is over there.\""
   ]
  },
  {
   "cell_type": "code",
   "execution_count": null,
   "metadata": {},
   "outputs": [],
   "source": [
    "\"cat\" in \"The quick brown fox jumped over the lazy dog's back.\""
   ]
  },
  {
   "cell_type": "markdown",
   "metadata": {},
   "source": [
    "Note that the in keyword is case senstive."
   ]
  },
  {
   "cell_type": "code",
   "execution_count": null,
   "metadata": {},
   "outputs": [],
   "source": [
    "word = \"Hello World\""
   ]
  },
  {
   "cell_type": "code",
   "execution_count": null,
   "metadata": {},
   "outputs": [],
   "source": [
    "print(word.count('l')) "
   ]
  },
  {
   "cell_type": "code",
   "execution_count": null,
   "metadata": {},
   "outputs": [],
   "source": [
    "print(word.find(\"H\")) "
   ]
  },
  {
   "cell_type": "code",
   "execution_count": null,
   "metadata": {},
   "outputs": [],
   "source": [
    "print(word.index(\"World\")) "
   ]
  },
  {
   "cell_type": "code",
   "execution_count": null,
   "metadata": {},
   "outputs": [],
   "source": [
    "\"2334\".isdigit()"
   ]
  },
  {
   "cell_type": "code",
   "execution_count": null,
   "metadata": {},
   "outputs": [],
   "source": [
    "word.isalnum()         #check if all char are alphanumeric \n",
    "word.isalpha()         #check if all char in the string are alphabetic\n",
    "word.isdigit()         #test if all char in string are digits\n",
    "word.istitle()         #test if string contains title words\n",
    "word.isupper()         #test if string contains upper case\n",
    "word.islower()         #test if string contains lower case\n",
    "word.isspace()         #test if string contains spaces\n",
    "word.endswith('d')     #test if string endswith a d\n",
    "word.startswith('H')   #test if string startswith H"
   ]
  },
  {
   "cell_type": "markdown",
   "metadata": {},
   "source": [
    "### Python III: Return of the Slice"
   ]
  },
  {
   "cell_type": "markdown",
   "metadata": {},
   "source": [
    "So how would we go about changing a letter in a string? Unfortunately we can't just use an equal sign like you might think to try first:"
   ]
  },
  {
   "cell_type": "code",
   "execution_count": null,
   "metadata": {
    "scrolled": true
   },
   "outputs": [],
   "source": [
    "my_string = \"Hello!\"\n",
    "\n",
    "my_string[0] = \"h\" #Let's try to change the H to an h"
   ]
  },
  {
   "cell_type": "markdown",
   "metadata": {},
   "source": [
    "The equal sign will always generate an error like that. So how do we do it? We can use string addition along with what is called \"slicing.\" Imagine you have the string written out on a piece of paper and a pair of scissors. You can use those scissors to cut between two letters and create a pair of new strings (the string to the left of the cut and the string to the right of the cut.) This is similar to how slicing works, where the \":\" is where you would use your scissors to cut. For example:"
   ]
  },
  {
   "cell_type": "code",
   "execution_count": null,
   "metadata": {
    "scrolled": true
   },
   "outputs": [],
   "source": [
    "my_string = \"abcdefghijklmnopqrstuvwxyz\"\n",
    "\n",
    "print(my_string[:3])  # The \":\" says make a cut in front of the third element of the string\n",
    "                     # and keep everything before it (before it because the \":\" is in front\n",
    "                     # of the number)\n",
    "    \n",
    "print(my_string[22:]) # The \":\" says make a cut that includes the twenty-second element of the string\n",
    "                     # and keep everything after it (after it because the \":\" is behind the\n",
    "                     # number)"
   ]
  },
  {
   "cell_type": "markdown",
   "metadata": {},
   "source": [
    "Specifically slicing will take everything starting with the index on the left of \":\" and go until it hits the index to the right of the \":\", but it will NOT include the index on the right. The right is the first index not included. A few more examples here:"
   ]
  },
  {
   "cell_type": "code",
   "execution_count": null,
   "metadata": {},
   "outputs": [],
   "source": [
    "hello_string = \"Hello World!\"\n",
    "\n",
    "print(hello_string[:5])\n",
    "print(hello_string[6:])\n",
    "print(hello_string[:5] + hello_string[6:])"
   ]
  },
  {
   "cell_type": "markdown",
   "metadata": {},
   "source": [
    "Notice in the third one, I managed to cut out the fifth entry out of my string by using slicing and string addition. This is the best way I've found to manage removing pieces of a string."
   ]
  },
  {
   "cell_type": "code",
   "execution_count": null,
   "metadata": {},
   "outputs": [],
   "source": [
    "start = 1\n",
    "hello_string[start:]"
   ]
  },
  {
   "cell_type": "markdown",
   "metadata": {},
   "source": [
    "## Practice Problems "
   ]
  },
  {
   "cell_type": "markdown",
   "metadata": {},
   "source": [
    "Create a list containing some strings. Then add all of the strings together and print the result."
   ]
  },
  {
   "cell_type": "code",
   "execution_count": null,
   "metadata": {},
   "outputs": [],
   "source": [
    "my_list = [\"anti\", \"dis\", \"establish\", \"ment\", \"arian\",\"ism\"]\n",
    "\n",
    "new = \"\"\n",
    "n = len(my_list)\n",
    "i = 0\n",
    "\n",
    "while i < n:\n",
    "    new += my_list[i]\n",
    "    i+=1\n",
    "    \n",
    "print(new)"
   ]
  },
  {
   "cell_type": "markdown",
   "metadata": {},
   "source": [
    "Write a cell that determines how many words are in a string. (Assume that the string is a sentence where words are all seperated by a space.)"
   ]
  },
  {
   "cell_type": "code",
   "execution_count": null,
   "metadata": {},
   "outputs": [],
   "source": [
    "my_string = \"Colorless green ideas sleep furiously.\"\n",
    "print(len(my_string.split()))"
   ]
  },
  {
   "cell_type": "markdown",
   "metadata": {},
   "source": [
    "Write a cell that doubles every letter. For example, \"Help\" would become \"HHeellpp\". Store the elongated string as a new string, and print it."
   ]
  },
  {
   "cell_type": "code",
   "execution_count": null,
   "metadata": {},
   "outputs": [],
   "source": [
    "word = \"Help\"\n",
    "new = \"\"\n",
    "i = 0\n",
    "n = len(word)\n",
    "while i < n:\n",
    "    new+=word[i]*2\n",
    "    i+=1\n",
    "print(new)"
   ]
  },
  {
   "cell_type": "markdown",
   "metadata": {},
   "source": [
    "Write a cell that takes a string as input and prints the string, written in reverse. For example, if given the string \"coconut\" the cell would print \"tunococ\"."
   ]
  },
  {
   "cell_type": "code",
   "execution_count": null,
   "metadata": {},
   "outputs": [],
   "source": [
    "word = \"coconut\"\n",
    "new = \"\"\n",
    "n = len(word) - 1\n",
    "while n >= 0:\n",
    "    new += word[n]\n",
    "    n = n - 1\n",
    "print(new)"
   ]
  },
  {
   "cell_type": "markdown",
   "metadata": {},
   "source": [
    "Write a cell that inserts the string \"h\" at a given location inside another string. For example, create an integer and initialize it to 5. Then insert \"h\" after the 5th position of the string \"She sells seashells\"."
   ]
  },
  {
   "cell_type": "code",
   "execution_count": null,
   "metadata": {},
   "outputs": [],
   "source": [
    "character = \"h\"\n",
    "location = 5                            #change this to have some fun\n",
    "test_string = \"She sells seashells\"     #or change this for some more fun\n",
    "\n",
    "new = test_string[:5]+character+test_string[5:]\n",
    "print(new)"
   ]
  },
  {
   "cell_type": "markdown",
   "metadata": {
    "collapsed": true
   },
   "source": [
    "## Advanced Problems"
   ]
  },
  {
   "cell_type": "markdown",
   "metadata": {},
   "source": [
    "*Numbers*: Write a cell that determines if a string contains any number (any of the following: 0, 1, 2, 3, 4, 5, 6, 7, 8, or 9) and returns True or False."
   ]
  },
  {
   "cell_type": "code",
   "execution_count": null,
   "metadata": {},
   "outputs": [],
   "source": [
    "result = False\n",
    "string = \"blah3\"\n",
    "n = len(string)\n",
    "i = 0\n",
    "while i < n:\n",
    "    if string[i].isdigit():\n",
    "        result = True\n",
    "    i+=1\n",
    "print(result)"
   ]
  },
  {
   "cell_type": "markdown",
   "metadata": {},
   "source": [
    "Another version:"
   ]
  },
  {
   "cell_type": "code",
   "execution_count": null,
   "metadata": {},
   "outputs": [],
   "source": [
    "result = False\n",
    "string = \"blah3\"\n",
    "\n",
    "for i in string:\n",
    "    if i.isdigit():\n",
    "        result = True\n",
    "        \n",
    "print(result)"
   ]
  },
  {
   "cell_type": "markdown",
   "metadata": {},
   "source": [
    "*Vowels*: Write a cell that determines the index (or indices) in a string of all the vowels. Do not consider \"y\" as a vowel for this."
   ]
  },
  {
   "cell_type": "code",
   "execution_count": null,
   "metadata": {},
   "outputs": [],
   "source": [
    "vowels = [\"a\", \"o\", \"i\", \"u\", \"e\"]\n",
    "count = 0\n",
    "string = \"Hello world!\"\n",
    "\n",
    "n = len(string)\n",
    "i = 0\n",
    "\n",
    "while i < n:\n",
    "    if string[i] in vowels:\n",
    "        count += 1\n",
    "    i += 1\n",
    "    \n",
    "print(count)"
   ]
  },
  {
   "cell_type": "markdown",
   "metadata": {},
   "source": [
    "*Palindrome*:  \n",
    "From Wikipedia (https://en.wikipedia.org/wiki/Palindrome):  \n",
    "A palindrome is a word, phrase, number, or other sequence of characters which reads the same backward or forward. Allowances may be made for adjustments to capital letters, punctuation, and word dividers. Examples in English include \"A man, a plan, a canal, Panama!\", \"Amor, Roma\", \"race car\", \"stack cats\", \"step on no pets\", \"taco cat\", \"put it up\", \"Was it a car or a cat I saw?\" and \"No 'x' in Nixon\".\n",
    "  \n",
    "Write a cell that determines if a string is a palindrome. Make it case insensitive. Deal with punctuation as you choose (or not at all)."
   ]
  },
  {
   "cell_type": "code",
   "execution_count": null,
   "metadata": {},
   "outputs": [],
   "source": [
    "palindrome = True\n",
    "string = \"tacocat\"\n",
    "scan = len(string) // 2\n",
    "i = 0\n",
    "\n",
    "while i <= scan:\n",
    "    if string[i] != string[-(i+1)]:\n",
    "        palindrome = False\n",
    "    i += 1\n",
    "    \n",
    "print(palindrome)"
   ]
  }
 ],
 "metadata": {
  "kernelspec": {
   "display_name": "Python 3",
   "language": "python",
   "name": "python3"
  },
  "language_info": {
   "codemirror_mode": {
    "name": "ipython",
    "version": 3
   },
   "file_extension": ".py",
   "mimetype": "text/x-python",
   "name": "python",
   "nbconvert_exporter": "python",
   "pygments_lexer": "ipython3",
   "version": "3.6.5"
  }
 },
 "nbformat": 4,
 "nbformat_minor": 1
}
