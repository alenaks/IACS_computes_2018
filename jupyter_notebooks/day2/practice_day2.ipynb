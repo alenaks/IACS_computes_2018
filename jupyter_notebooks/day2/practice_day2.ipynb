{
 "cells": [
  {
   "cell_type": "markdown",
   "metadata": {},
   "source": [
    "# Coding practice"
   ]
  },
  {
   "cell_type": "markdown",
   "metadata": {},
   "source": [
    "Now, let's practice the tools and functions we studied these two days. We'll have 3 main probems to solve today: staircase, sunglasses, and sentiment analysis."
   ]
  },
  {
   "cell_type": "markdown",
   "metadata": {},
   "source": [
    "### Staircase\n",
    "\n",
    "For a given *n*, print the corresponding staircase made out of hash symbols. For example:\n",
    "\n",
    "*n = 6*\n",
    "\n",
    "\\#\n",
    "\n",
    "\\#\\#\n",
    "\n",
    "\\#\\#\\#\n",
    "\n",
    "\\#\\#\\#\\#\n",
    "\n",
    "\\#\\#\\#\\#\\#\n",
    "\n",
    "\\#\\#\\#\\#\\#\\#"
   ]
  },
  {
   "cell_type": "code",
   "execution_count": null,
   "metadata": {},
   "outputs": [],
   "source": [
    "# your code here"
   ]
  },
  {
   "cell_type": "markdown",
   "metadata": {},
   "source": [
    "### Sentiment analysis\n",
    "\n",
    "[Sentiment analysis](https://en.wikipedia.org/wiki/Sentiment_analysis), or *emotion AI*, is an area of Natural Language Processing (NLP) that allows to extract and quantify opinions and emotions from the text.\n",
    "\n",
    "We will continue looking at this task more later, but now let us create a super simple sentiment analysis system. Namely, we the computer will read a sentence and understand whether it is nice or rude. :)\n",
    "\n",
    "Let us start by learning one more method defined over the strings -- `str.split()`."
   ]
  },
  {
   "cell_type": "code",
   "execution_count": null,
   "metadata": {},
   "outputs": [],
   "source": [
    "s = \"This is a string\"\n",
    "my_list = s.split()\n",
    "print(my_list)"
   ]
  },
  {
   "cell_type": "markdown",
   "metadata": {},
   "source": [
    "As you can see, this method splits a string into separate words.\n",
    "\n",
    "Now we can start the sentiment analysis task!\n",
    "\n",
    "\n",
    "###### What is good and what is bad?\n",
    "Below, define two lists: `good_words` and `bad_words` that contain good and bad words, correspondingly. After, define a string `tweet` that will contain some phrase. (For now, avoid using the punctuations!)"
   ]
  },
  {
   "cell_type": "code",
   "execution_count": null,
   "metadata": {},
   "outputs": [],
   "source": []
  },
  {
   "cell_type": "markdown",
   "metadata": {},
   "source": [
    "Now, split the `tweet` into separate words."
   ]
  },
  {
   "cell_type": "code",
   "execution_count": null,
   "metadata": {},
   "outputs": [],
   "source": []
  },
  {
   "cell_type": "markdown",
   "metadata": {},
   "source": [
    "Now, it is going to be difficult! Create a variables `good` and `bad` which you will increment by `1` every time you encounter a good or a bad word in the `tweet`. Using the `while` loop, look at every word in your `tweet` (**hint**: `len` might help here somehow), and see whether you can find it in the list of good or bad words. Every time you see a good or a bad word, update the corresponding counter."
   ]
  },
  {
   "cell_type": "code",
   "execution_count": null,
   "metadata": {},
   "outputs": [],
   "source": [
    "# create two counters\n",
    "\n",
    "# using while, loop over every word in your tweet\n",
    "\n",
    "    # if the word in the good or bad list, update the corresponding counter"
   ]
  },
  {
   "cell_type": "markdown",
   "metadata": {},
   "source": [
    "Now, you should have the two counters. Maybe `good = 5` and `bad = 2`. Then we want to conclude that the tweet is mostly positive, right? Let's write a conditions that:\n",
    "1. will print \"not enough data in my lists of bad and good words\" if both counters are zero;\n",
    "2. will print that the text is mostly positive if `good` is bigger than `bad`;\n",
    "3. think about two additional outcomes!"
   ]
  },
  {
   "cell_type": "code",
   "execution_count": null,
   "metadata": {},
   "outputs": [],
   "source": [
    "# the conditional statements go here"
   ]
  },
  {
   "cell_type": "markdown",
   "metadata": {},
   "source": [
    "### Draw sunglasses\n",
    "\n",
    "Now, let's draw sunglasses with Turtles. You can draw the square ones, the circle ones -- or the star ones. :) Basically, anything you want!\n",
    "\n",
    "First run the cell below to import the library, create a window to draw in, and put our turtle on it."
   ]
  },
  {
   "cell_type": "code",
   "execution_count": null,
   "metadata": {},
   "outputs": [],
   "source": [
    "import turtle\n",
    "window = turtle.Screen()\n",
    "ted = turtle.Turtle()"
   ]
  },
  {
   "cell_type": "markdown",
   "metadata": {},
   "source": [
    "Now, write your own code to draw sunglasses!"
   ]
  },
  {
   "cell_type": "code",
   "execution_count": null,
   "metadata": {},
   "outputs": [],
   "source": [
    "# clean up just in case\n",
    "ted.home()\n",
    "ted.clear()\n",
    "\n",
    "# your code here"
   ]
  },
  {
   "cell_type": "markdown",
   "metadata": {},
   "source": [
    "After we're done drawing, let's close the window."
   ]
  },
  {
   "cell_type": "code",
   "execution_count": null,
   "metadata": {},
   "outputs": [],
   "source": [
    "window.bye()"
   ]
  }
 ],
 "metadata": {
  "kernelspec": {
   "display_name": "Python 3",
   "language": "python",
   "name": "python3"
  },
  "language_info": {
   "codemirror_mode": {
    "name": "ipython",
    "version": 3
   },
   "file_extension": ".py",
   "mimetype": "text/x-python",
   "name": "python",
   "nbconvert_exporter": "python",
   "pygments_lexer": "ipython3",
   "version": "3.6.5"
  }
 },
 "nbformat": 4,
 "nbformat_minor": 2
}
