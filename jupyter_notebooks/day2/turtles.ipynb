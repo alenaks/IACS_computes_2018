{
 "cells": [
  {
   "cell_type": "markdown",
   "metadata": {},
   "source": [
    "# Turtles"
   ]
  },
  {
   "cell_type": "markdown",
   "metadata": {},
   "source": [
    "http://www.turtlesrock.org/\n",
    "\n",
    "Lets do something fun and visual. We are going to need to use a library for this. A library is basically code someone else has written. In order to use a library we must *import* the code."
   ]
  },
  {
   "cell_type": "code",
   "execution_count": 1,
   "metadata": {},
   "outputs": [],
   "source": [
    "import turtle"
   ]
  },
  {
   "cell_type": "markdown",
   "metadata": {},
   "source": [
    "Nothing happened. That was actually expected, since importing a library doesn't execute any code (it just makes it available for use). As long as there was no error message after an import, we know we are good to go!"
   ]
  },
  {
   "cell_type": "markdown",
   "metadata": {},
   "source": [
    "Lets start by creating a window to draw in."
   ]
  },
  {
   "cell_type": "code",
   "execution_count": null,
   "metadata": {},
   "outputs": [],
   "source": [
    "# here we are creating the window\n",
    "window = turtle.Screen()"
   ]
  },
  {
   "cell_type": "markdown",
   "metadata": {},
   "source": [
    "Next we need to create the thing we will be drawing with, called a Turtle."
   ]
  },
  {
   "cell_type": "code",
   "execution_count": null,
   "metadata": {},
   "outputs": [],
   "source": [
    "ned = turtle.Turtle()"
   ]
  },
  {
   "cell_type": "markdown",
   "metadata": {},
   "source": [
    "Now a little arrow appeared in the middle of the window you created. That's your turtle. We'll just refer to ours by name, ned.\n",
    "  \n",
    "Lets get ned to start walking by telling him to go forward."
   ]
  },
  {
   "cell_type": "code",
   "execution_count": null,
   "metadata": {},
   "outputs": [],
   "source": [
    "ned.forward(50)  #commands given to ned will often be given in a form like this"
   ]
  },
  {
   "cell_type": "markdown",
   "metadata": {},
   "source": [
    "This command told ned (our turtle) to move forward 50 pixels worth of distance. Cool. Let's tell ned to take a left."
   ]
  },
  {
   "cell_type": "code",
   "execution_count": null,
   "metadata": {},
   "outputs": [],
   "source": [
    "ned.left(90) #This command makes ned turn to the left"
   ]
  },
  {
   "cell_type": "code",
   "execution_count": null,
   "metadata": {},
   "outputs": [],
   "source": [
    "ned.forward(50) #This tells ned to walk forward again"
   ]
  },
  {
   "cell_type": "markdown",
   "metadata": {},
   "source": [
    "Yay, that wasn't too bad. What if I wanted to send ned back to where he started? We just need to send ned home."
   ]
  },
  {
   "cell_type": "code",
   "execution_count": null,
   "metadata": {},
   "outputs": [],
   "source": [
    "ned.home()"
   ]
  },
  {
   "cell_type": "markdown",
   "metadata": {},
   "source": [
    "Because of the default settings of turtles, the path that ned takes is drawn and left on the screen. What if I want to erase all ned's hard work? I use ned.clear()."
   ]
  },
  {
   "cell_type": "code",
   "execution_count": null,
   "metadata": {},
   "outputs": [],
   "source": [
    "ned.clear()"
   ]
  },
  {
   "cell_type": "markdown",
   "metadata": {},
   "source": [
    "Now let's use ned to draw some regular polygons."
   ]
  },
  {
   "cell_type": "code",
   "execution_count": null,
   "metadata": {},
   "outputs": [],
   "source": [
    "# Let's draw a square\n",
    "side_length = 100 #pixels\n",
    "angle = 90 #degrees\n",
    "\n",
    "ned.forward(side_length)\n",
    "\n",
    "ned.left(angle)\n",
    "ned.forward(side_length)\n",
    "\n",
    "ned.left(angle)\n",
    "ned.forward(side_length)\n",
    "\n",
    "ned.left(angle)\n",
    "ned.forward(side_length)"
   ]
  },
  {
   "cell_type": "markdown",
   "metadata": {},
   "source": [
    "Nice, but very repetitive. Let's get rid of the repetition! We can use `while`."
   ]
  },
  {
   "cell_type": "code",
   "execution_count": null,
   "metadata": {},
   "outputs": [],
   "source": [
    "ned.home()\n",
    "ned.clear()\n",
    "\n",
    "side_length = 100\n",
    "angle = 90\n",
    "\n",
    "# A square\n",
    "i = 0\n",
    "while i < 4: #4 sides in a square\n",
    "    ned.forward(side_length)\n",
    "    ned.left(angle)\n",
    "    i = i + 1"
   ]
  },
  {
   "cell_type": "markdown",
   "metadata": {},
   "source": [
    "Now, let us draw a triangle."
   ]
  },
  {
   "cell_type": "code",
   "execution_count": null,
   "metadata": {},
   "outputs": [],
   "source": [
    "ned.home()  # start back at the middle\n",
    "ned.clear() # clear the square we just drew\n",
    "\n",
    "side_length = 100 # pixels\n",
    "angle = 120 # degrees. Note that this is the *exterior* angle\n",
    "\n",
    "# An equilateral triangle\n",
    "ned.forward(side_length)\n",
    "ned.left(angle)\n",
    "ned.forward(side_length)\n",
    "ned.left(angle)\n",
    "ned.forward(side_length)"
   ]
  },
  {
   "cell_type": "markdown",
   "metadata": {},
   "source": [
    "**Challenge**: simplify the code from the cell above in the following cell using the `while` statement."
   ]
  },
  {
   "cell_type": "code",
   "execution_count": null,
   "metadata": {},
   "outputs": [],
   "source": [
    "# your code"
   ]
  },
  {
   "cell_type": "markdown",
   "metadata": {},
   "source": [
    "So what if we wanted to do this more generally? We could create a variable for the number of sides to draw a generic n-gon. From the number of sides, we can calculate the angle we are going to turn. Let's do that now."
   ]
  },
  {
   "cell_type": "code",
   "execution_count": null,
   "metadata": {},
   "outputs": [],
   "source": [
    "#clean up our window\n",
    "ned.home()\n",
    "ned.clear()\n",
    "\n",
    "# The number of sides\n",
    "n = 6\n",
    "\n",
    "# The length of a side in our shape\n",
    "side_length = 50\n",
    "\n",
    "# The angle between sides\n",
    "angle = 360/n\n",
    "\n",
    "# Our loop\n",
    "i = 0\n",
    "while i < n:\n",
    "    ned.forward(side_length)\n",
    "    ned.left(angle)\n",
    "    i = i + 1"
   ]
  },
  {
   "cell_type": "markdown",
   "metadata": {},
   "source": [
    "**Challenge**: how to draw a circle using a code above?"
   ]
  },
  {
   "cell_type": "markdown",
   "metadata": {},
   "source": [
    "A fun little exercise is to draw these n-sided polygons multiple times. Well, we can do that if we use a loop inside a loop!"
   ]
  },
  {
   "cell_type": "code",
   "execution_count": null,
   "metadata": {},
   "outputs": [],
   "source": [
    "# clean up previous shapes\n",
    "ned.home()\n",
    "ned.clear()\n",
    "\n",
    "n = 6 # the number of sides on our polygon\n",
    "angle = 360.0/n # the angle between sides of the polygon\n",
    "\n",
    "m = 8 # the number of times to draw the polygon\n",
    "angle2 = 360.0/m # the angle between shapes\n",
    "side_length = 50 # the length of a side in our shape\n",
    "\n",
    "\n",
    "i = 0\n",
    "while i < m: # helps to repeat the polygons\n",
    "    \n",
    "    j = 0\n",
    "    while j < n: # draws the polygons\n",
    "        ned.forward(side_length)\n",
    "        ned.left(angle)\n",
    "        j = j + 1\n",
    "        \n",
    "    ned.left(angle2) # rotate to not draw the new polygon in exactly the same place\n",
    "    i = i + 1\n",
    "    \n",
    "    \n",
    "# Little trick to hide the drawing icon\n",
    "ned.hideturtle()"
   ]
  },
  {
   "cell_type": "markdown",
   "metadata": {},
   "source": [
    "At the end of the above code cell, we used hideturtle to hide the drawing icon. To get your turtle back, you can use:"
   ]
  },
  {
   "cell_type": "code",
   "execution_count": null,
   "metadata": {},
   "outputs": [],
   "source": [
    "ned.showturtle()"
   ]
  },
  {
   "cell_type": "markdown",
   "metadata": {
    "collapsed": true
   },
   "source": [
    "So all of these drawings are starting ned in the middle of the screen. What if we wanted to start somewhere else? There are many ways to do this, but here's one: "
   ]
  },
  {
   "cell_type": "code",
   "execution_count": null,
   "metadata": {},
   "outputs": [],
   "source": [
    "ned.setposition(100,100)"
   ]
  },
  {
   "cell_type": "markdown",
   "metadata": {},
   "source": [
    "That is almost what we want, but we still drew a line. How do we not draw a line? We use the penup() function."
   ]
  },
  {
   "cell_type": "code",
   "execution_count": null,
   "metadata": {},
   "outputs": [],
   "source": [
    "ned.penup()"
   ]
  },
  {
   "cell_type": "code",
   "execution_count": null,
   "metadata": {},
   "outputs": [],
   "source": [
    "ned.setposition(-50,-50)"
   ]
  },
  {
   "cell_type": "markdown",
   "metadata": {},
   "source": [
    "So there we go. What do we do if we want to start drawing lines again? Naturally, its simply pendown()."
   ]
  },
  {
   "cell_type": "code",
   "execution_count": null,
   "metadata": {},
   "outputs": [],
   "source": [
    "ned.pendown()\n",
    "ned.home()"
   ]
  },
  {
   "cell_type": "code",
   "execution_count": null,
   "metadata": {},
   "outputs": [],
   "source": [
    "ned.clear()"
   ]
  },
  {
   "cell_type": "markdown",
   "metadata": {},
   "source": [
    "We can change the background color of our window using window.bgcolor(\"color_name\"). For example:"
   ]
  },
  {
   "cell_type": "code",
   "execution_count": null,
   "metadata": {},
   "outputs": [],
   "source": [
    "window.bgcolor(\"blue\")"
   ]
  },
  {
   "cell_type": "code",
   "execution_count": null,
   "metadata": {},
   "outputs": [],
   "source": [
    "window.bgcolor(\"purple\")"
   ]
  },
  {
   "cell_type": "code",
   "execution_count": null,
   "metadata": {},
   "outputs": [],
   "source": [
    "window.bgcolor(\"white\")"
   ]
  },
  {
   "cell_type": "markdown",
   "metadata": {},
   "source": [
    "You have probably heard of *RGB* (red-green-blue) model. It is a model where all colors are represented via certain amounts of red, green, and blue."
   ]
  },
  {
   "cell_type": "code",
   "execution_count": null,
   "metadata": {},
   "outputs": [],
   "source": [
    "window.bgcolor((0.7,0.6,0.8))"
   ]
  },
  {
   "cell_type": "markdown",
   "metadata": {},
   "source": [
    "Back to turtles: we can also change the color and thickness of the lines drawn by our turtles. For example:"
   ]
  },
  {
   "cell_type": "code",
   "execution_count": null,
   "metadata": {},
   "outputs": [],
   "source": [
    "ned.forward(50)  # Draw using old size\n",
    "ned.pensize(2)   # Make a new size\n",
    "ned.forward(50)  # Draw using new size\n",
    "ned.pensize(3.5) # Another new size\n",
    "ned.forward(50)  # Drawing with the newer size"
   ]
  },
  {
   "cell_type": "markdown",
   "metadata": {},
   "source": [
    "You can also change the color of the line drawn. "
   ]
  },
  {
   "cell_type": "code",
   "execution_count": null,
   "metadata": {},
   "outputs": [],
   "source": [
    "# Clean up old stuff\n",
    "ned.home()\n",
    "ned.clear()\n",
    "\n",
    "# You can use common color names, \n",
    "# represented as strings\n",
    "ned.pencolor(\"red\")\n",
    "ned.forward(50)"
   ]
  },
  {
   "cell_type": "code",
   "execution_count": null,
   "metadata": {},
   "outputs": [],
   "source": [
    "# Clean up\n",
    "ned.home()\n",
    "ned.clear()\n",
    "\n",
    "# Or you can use RGB\n",
    "ned.pencolor((1,0,0)) # the color red\n",
    "ned.forward(50)\n",
    "\n",
    "ned.pencolor((0,1,0)) # the color green\n",
    "ned.forward(50)\n",
    "\n",
    "ned.pencolor((0,0,1)) # the color blue\n",
    "ned.forward(50)"
   ]
  },
  {
   "cell_type": "markdown",
   "metadata": {},
   "source": [
    "Any float between 0 and 1 is acceptable for these values. You can use these to get all sorts of colors. For example, we can draw a circle where the colors get progressively more \"red\"."
   ]
  },
  {
   "cell_type": "code",
   "execution_count": null,
   "metadata": {},
   "outputs": [],
   "source": [
    "#clean up our window\n",
    "ned.home()\n",
    "ned.clear()\n",
    "\n",
    "# The number of sides\n",
    "n = 30\n",
    "\n",
    "# The length of a side in our shape\n",
    "side_length = 15\n",
    "\n",
    "# The angle between sides\n",
    "angle = 360/n\n",
    "\n",
    "# Our loop\n",
    "i = 0\n",
    "while i < n:\n",
    "    ned.pencolor((i/30,0,0))\n",
    "    ned.forward(side_length)\n",
    "    ned.left(angle)\n",
    "    i = i + 1"
   ]
  },
  {
   "cell_type": "markdown",
   "metadata": {},
   "source": [
    "Also, there are shapes that can be automatically drawn."
   ]
  },
  {
   "cell_type": "code",
   "execution_count": null,
   "metadata": {},
   "outputs": [],
   "source": [
    "# Clean up\n",
    "ned.home()\n",
    "ned.clear()\n",
    "\n",
    "# Reset everything\n",
    "ned.pensize(1)\n",
    "ned.pencolor(\"black\")\n",
    "\n",
    "# Draw some circles\n",
    "ned.circle(10)\n",
    "ned.circle(40)\n",
    "ned.circle(80)"
   ]
  },
  {
   "cell_type": "code",
   "execution_count": null,
   "metadata": {},
   "outputs": [],
   "source": [
    "# Clean up\n",
    "ned.home()\n",
    "ned.clear()\n",
    "\n",
    "ned.hideturtle()\n",
    "\n",
    "# Draw some dots\n",
    "ned.dot()\n",
    "ned.dot(10, \"red\")\n",
    "ned.penup()\n",
    "ned.goto((100,100))\n",
    "ned.dot(80,(0,0,1))\n",
    "ned.goto((-238, 85))\n",
    "ned.dot(100, (0.5,0.23,0.75))\n",
    "ned.goto((130,-67))\n",
    "ned.dot(19, (0.09,.94,0.11))"
   ]
  },
  {
   "cell_type": "markdown",
   "metadata": {
    "collapsed": true
   },
   "source": [
    "So lets take some time and draw things! If you come up with something you're willing to share, we are more than happy to cede the floor to you!"
   ]
  },
  {
   "cell_type": "code",
   "execution_count": null,
   "metadata": {},
   "outputs": [],
   "source": [
    "# Stars\n",
    "side = 40\n",
    "\n",
    "# General good habit\n",
    "ned.home()\n",
    "ned.clear()\n",
    "\n",
    "# General things \n",
    "window.bgcolor('black')\n",
    "ned.showturtle()\n",
    "ned.pensize(3)\n",
    "\n",
    "# Draw the stars\n",
    "ned.pencolor('yellow')\n",
    "ned.fillcolor('yellow')\n",
    "ned.pendown()\n",
    "ned.begin_fill()\n",
    "\n",
    "ned.right(36)\n",
    "i = 0\n",
    "while i < 5:\n",
    "    ned.forward(side)\n",
    "    ned.left(180-(180/5)) # sum of all point angles of a star is 180!\n",
    "    ned.forward(side)\n",
    "    ned.right((180-(180/5))/2)\n",
    "    i = i + 1\n",
    "ned.end_fill()\n",
    "\n",
    "ned.hideturtle()"
   ]
  },
  {
   "cell_type": "markdown",
   "metadata": {},
   "source": [
    "**Question**: we drew a pentagram. Now, how to draw a hexagram?"
   ]
  },
  {
   "cell_type": "markdown",
   "metadata": {},
   "source": [
    "Always clean up after yourself and close things properly."
   ]
  },
  {
   "cell_type": "code",
   "execution_count": null,
   "metadata": {},
   "outputs": [],
   "source": [
    "window.bye()"
   ]
  }
 ],
 "metadata": {
  "kernelspec": {
   "display_name": "Python 3",
   "language": "python",
   "name": "python3"
  },
  "language_info": {
   "codemirror_mode": {
    "name": "ipython",
    "version": 3
   },
   "file_extension": ".py",
   "mimetype": "text/x-python",
   "name": "python",
   "nbconvert_exporter": "python",
   "pygments_lexer": "ipython3",
   "version": "3.6.5"
  }
 },
 "nbformat": 4,
 "nbformat_minor": 1
}
